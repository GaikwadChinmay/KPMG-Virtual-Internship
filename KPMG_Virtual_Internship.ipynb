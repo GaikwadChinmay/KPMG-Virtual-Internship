{
  "nbformat": 4,
  "nbformat_minor": 0,
  "metadata": {
    "colab": {
      "name": "KPMG Virtual Internship.ipynb",
      "provenance": [],
      "collapsed_sections": [],
      "toc_visible": true
    },
    "kernelspec": {
      "name": "python3",
      "display_name": "Python 3"
    },
    "language_info": {
      "name": "python"
    }
  },
  "cells": [
    {
      "cell_type": "markdown",
      "metadata": {
        "id": "xnpbBt576sWN"
      },
      "source": [
        "# KPMG Virtual Internship on Data Analysis"
      ]
    },
    {
      "cell_type": "code",
      "metadata": {
        "colab": {
          "base_uri": "https://localhost:8080/"
        },
        "id": "K4ho6bu76cPt",
        "outputId": "b9181166-163e-4647-c8b6-230b558ff64b"
      },
      "source": [
        "#Importing requied packages\n",
        "import numpy as np, pandas as pd\n",
        "import matplotlib.pyplot as plt\n",
        "import seaborn as sns\n",
        "import warnings\n",
        "warnings.filterwarnings('ignore')\n",
        "print('Packages have been imported ✓')"
      ],
      "execution_count": 140,
      "outputs": [
        {
          "output_type": "stream",
          "name": "stdout",
          "text": [
            "Packages have been imported ✓\n"
          ]
        }
      ]
    },
    {
      "cell_type": "markdown",
      "metadata": {
        "id": "qXZ-IssV7Zl4"
      },
      "source": [
        "### Now, let's import the datasets"
      ]
    },
    {
      "cell_type": "code",
      "metadata": {
        "colab": {
          "base_uri": "https://localhost:8080/"
        },
        "id": "jzEKPAx-7Ofs",
        "outputId": "5aa92c8c-c5a0-4231-b52c-38acf1844652"
      },
      "source": [
        "txn = pd.read_csv('/content/transactions.csv',header=1)\n",
        "cust_add = pd.read_csv('/content/customer_address.csv',header=1)\n",
        "new_cust = pd.read_csv('/content/new_customers.csv',header=1)\n",
        "cust_demo = pd.read_csv('/content/customer_demographics.csv',header=1)\n",
        "print('Datasets have been imported ✓')"
      ],
      "execution_count": 141,
      "outputs": [
        {
          "output_type": "stream",
          "name": "stdout",
          "text": [
            "Datasets have been imported ✓\n"
          ]
        }
      ]
    },
    {
      "cell_type": "markdown",
      "metadata": {
        "id": "pRBS2IltDICM"
      },
      "source": [
        "## 1.Transaction Data"
      ]
    },
    {
      "cell_type": "code",
      "metadata": {
        "colab": {
          "base_uri": "https://localhost:8080/",
          "height": 196
        },
        "id": "rhGW0Fo_8xJO",
        "outputId": "70b5bce2-7ccb-489a-c88d-a638c950ec14"
      },
      "source": [
        "txn.head(2)"
      ],
      "execution_count": 142,
      "outputs": [
        {
          "output_type": "execute_result",
          "data": {
            "text/html": [
              "<div>\n",
              "<style scoped>\n",
              "    .dataframe tbody tr th:only-of-type {\n",
              "        vertical-align: middle;\n",
              "    }\n",
              "\n",
              "    .dataframe tbody tr th {\n",
              "        vertical-align: top;\n",
              "    }\n",
              "\n",
              "    .dataframe thead th {\n",
              "        text-align: right;\n",
              "    }\n",
              "</style>\n",
              "<table border=\"1\" class=\"dataframe\">\n",
              "  <thead>\n",
              "    <tr style=\"text-align: right;\">\n",
              "      <th></th>\n",
              "      <th>transaction_id</th>\n",
              "      <th>product_id</th>\n",
              "      <th>customer_id</th>\n",
              "      <th>transaction_date</th>\n",
              "      <th>online_order</th>\n",
              "      <th>order_status</th>\n",
              "      <th>brand</th>\n",
              "      <th>product_line</th>\n",
              "      <th>product_class</th>\n",
              "      <th>product_size</th>\n",
              "      <th>list_price</th>\n",
              "      <th>standard_cost</th>\n",
              "      <th>product_first_sold_date</th>\n",
              "      <th>Unnamed: 13</th>\n",
              "      <th>Unnamed: 14</th>\n",
              "      <th>Unnamed: 15</th>\n",
              "      <th>Unnamed: 16</th>\n",
              "      <th>Unnamed: 17</th>\n",
              "      <th>Unnamed: 18</th>\n",
              "      <th>Unnamed: 19</th>\n",
              "      <th>Unnamed: 20</th>\n",
              "      <th>Unnamed: 21</th>\n",
              "      <th>Unnamed: 22</th>\n",
              "      <th>Unnamed: 23</th>\n",
              "      <th>Unnamed: 24</th>\n",
              "      <th>Unnamed: 25</th>\n",
              "      <th>Unnamed: 26</th>\n",
              "      <th>Unnamed: 27</th>\n",
              "      <th>Unnamed: 28</th>\n",
              "      <th>Unnamed: 29</th>\n",
              "      <th>Unnamed: 30</th>\n",
              "      <th>Unnamed: 31</th>\n",
              "      <th>Unnamed: 32</th>\n",
              "      <th>Unnamed: 33</th>\n",
              "      <th>Unnamed: 34</th>\n",
              "      <th>Unnamed: 35</th>\n",
              "      <th>Unnamed: 36</th>\n",
              "      <th>Unnamed: 37</th>\n",
              "      <th>Unnamed: 38</th>\n",
              "      <th>Unnamed: 39</th>\n",
              "      <th>...</th>\n",
              "      <th>Unnamed: 216</th>\n",
              "      <th>Unnamed: 217</th>\n",
              "      <th>Unnamed: 218</th>\n",
              "      <th>Unnamed: 219</th>\n",
              "      <th>Unnamed: 220</th>\n",
              "      <th>Unnamed: 221</th>\n",
              "      <th>Unnamed: 222</th>\n",
              "      <th>Unnamed: 223</th>\n",
              "      <th>Unnamed: 224</th>\n",
              "      <th>Unnamed: 225</th>\n",
              "      <th>Unnamed: 226</th>\n",
              "      <th>Unnamed: 227</th>\n",
              "      <th>Unnamed: 228</th>\n",
              "      <th>Unnamed: 229</th>\n",
              "      <th>Unnamed: 230</th>\n",
              "      <th>Unnamed: 231</th>\n",
              "      <th>Unnamed: 232</th>\n",
              "      <th>Unnamed: 233</th>\n",
              "      <th>Unnamed: 234</th>\n",
              "      <th>Unnamed: 235</th>\n",
              "      <th>Unnamed: 236</th>\n",
              "      <th>Unnamed: 237</th>\n",
              "      <th>Unnamed: 238</th>\n",
              "      <th>Unnamed: 239</th>\n",
              "      <th>Unnamed: 240</th>\n",
              "      <th>Unnamed: 241</th>\n",
              "      <th>Unnamed: 242</th>\n",
              "      <th>Unnamed: 243</th>\n",
              "      <th>Unnamed: 244</th>\n",
              "      <th>Unnamed: 245</th>\n",
              "      <th>Unnamed: 246</th>\n",
              "      <th>Unnamed: 247</th>\n",
              "      <th>Unnamed: 248</th>\n",
              "      <th>Unnamed: 249</th>\n",
              "      <th>Unnamed: 250</th>\n",
              "      <th>Unnamed: 251</th>\n",
              "      <th>Unnamed: 252</th>\n",
              "      <th>Unnamed: 253</th>\n",
              "      <th>Unnamed: 254</th>\n",
              "      <th>Unnamed: 255</th>\n",
              "    </tr>\n",
              "  </thead>\n",
              "  <tbody>\n",
              "    <tr>\n",
              "      <th>0</th>\n",
              "      <td>1</td>\n",
              "      <td>2</td>\n",
              "      <td>2950</td>\n",
              "      <td>25-02-17</td>\n",
              "      <td>False</td>\n",
              "      <td>Approved</td>\n",
              "      <td>Solex</td>\n",
              "      <td>Standard</td>\n",
              "      <td>medium</td>\n",
              "      <td>medium</td>\n",
              "      <td>71.49</td>\n",
              "      <td>$53.62</td>\n",
              "      <td>41245.0</td>\n",
              "      <td>NaN</td>\n",
              "      <td>NaN</td>\n",
              "      <td>NaN</td>\n",
              "      <td>NaN</td>\n",
              "      <td>NaN</td>\n",
              "      <td>NaN</td>\n",
              "      <td>NaN</td>\n",
              "      <td>NaN</td>\n",
              "      <td>NaN</td>\n",
              "      <td>NaN</td>\n",
              "      <td>NaN</td>\n",
              "      <td>NaN</td>\n",
              "      <td>NaN</td>\n",
              "      <td>NaN</td>\n",
              "      <td>NaN</td>\n",
              "      <td>NaN</td>\n",
              "      <td>NaN</td>\n",
              "      <td>NaN</td>\n",
              "      <td>NaN</td>\n",
              "      <td>NaN</td>\n",
              "      <td>NaN</td>\n",
              "      <td>NaN</td>\n",
              "      <td>NaN</td>\n",
              "      <td>NaN</td>\n",
              "      <td>NaN</td>\n",
              "      <td>NaN</td>\n",
              "      <td>NaN</td>\n",
              "      <td>...</td>\n",
              "      <td>NaN</td>\n",
              "      <td>NaN</td>\n",
              "      <td>NaN</td>\n",
              "      <td>NaN</td>\n",
              "      <td>NaN</td>\n",
              "      <td>NaN</td>\n",
              "      <td>NaN</td>\n",
              "      <td>NaN</td>\n",
              "      <td>NaN</td>\n",
              "      <td>NaN</td>\n",
              "      <td>NaN</td>\n",
              "      <td>NaN</td>\n",
              "      <td>NaN</td>\n",
              "      <td>NaN</td>\n",
              "      <td>NaN</td>\n",
              "      <td>NaN</td>\n",
              "      <td>NaN</td>\n",
              "      <td>NaN</td>\n",
              "      <td>NaN</td>\n",
              "      <td>NaN</td>\n",
              "      <td>NaN</td>\n",
              "      <td>NaN</td>\n",
              "      <td>NaN</td>\n",
              "      <td>NaN</td>\n",
              "      <td>NaN</td>\n",
              "      <td>NaN</td>\n",
              "      <td>NaN</td>\n",
              "      <td>NaN</td>\n",
              "      <td>NaN</td>\n",
              "      <td>NaN</td>\n",
              "      <td>NaN</td>\n",
              "      <td>NaN</td>\n",
              "      <td>NaN</td>\n",
              "      <td>NaN</td>\n",
              "      <td>NaN</td>\n",
              "      <td>NaN</td>\n",
              "      <td>NaN</td>\n",
              "      <td>NaN</td>\n",
              "      <td>NaN</td>\n",
              "      <td>NaN</td>\n",
              "    </tr>\n",
              "    <tr>\n",
              "      <th>1</th>\n",
              "      <td>2</td>\n",
              "      <td>3</td>\n",
              "      <td>3120</td>\n",
              "      <td>21-05-17</td>\n",
              "      <td>True</td>\n",
              "      <td>Approved</td>\n",
              "      <td>Trek Bicycles</td>\n",
              "      <td>Standard</td>\n",
              "      <td>medium</td>\n",
              "      <td>large</td>\n",
              "      <td>2091.47</td>\n",
              "      <td>$388.92</td>\n",
              "      <td>41701.0</td>\n",
              "      <td>NaN</td>\n",
              "      <td>NaN</td>\n",
              "      <td>NaN</td>\n",
              "      <td>NaN</td>\n",
              "      <td>NaN</td>\n",
              "      <td>NaN</td>\n",
              "      <td>NaN</td>\n",
              "      <td>NaN</td>\n",
              "      <td>NaN</td>\n",
              "      <td>NaN</td>\n",
              "      <td>NaN</td>\n",
              "      <td>NaN</td>\n",
              "      <td>NaN</td>\n",
              "      <td>NaN</td>\n",
              "      <td>NaN</td>\n",
              "      <td>NaN</td>\n",
              "      <td>NaN</td>\n",
              "      <td>NaN</td>\n",
              "      <td>NaN</td>\n",
              "      <td>NaN</td>\n",
              "      <td>NaN</td>\n",
              "      <td>NaN</td>\n",
              "      <td>NaN</td>\n",
              "      <td>NaN</td>\n",
              "      <td>NaN</td>\n",
              "      <td>NaN</td>\n",
              "      <td>NaN</td>\n",
              "      <td>...</td>\n",
              "      <td>NaN</td>\n",
              "      <td>NaN</td>\n",
              "      <td>NaN</td>\n",
              "      <td>NaN</td>\n",
              "      <td>NaN</td>\n",
              "      <td>NaN</td>\n",
              "      <td>NaN</td>\n",
              "      <td>NaN</td>\n",
              "      <td>NaN</td>\n",
              "      <td>NaN</td>\n",
              "      <td>NaN</td>\n",
              "      <td>NaN</td>\n",
              "      <td>NaN</td>\n",
              "      <td>NaN</td>\n",
              "      <td>NaN</td>\n",
              "      <td>NaN</td>\n",
              "      <td>NaN</td>\n",
              "      <td>NaN</td>\n",
              "      <td>NaN</td>\n",
              "      <td>NaN</td>\n",
              "      <td>NaN</td>\n",
              "      <td>NaN</td>\n",
              "      <td>NaN</td>\n",
              "      <td>NaN</td>\n",
              "      <td>NaN</td>\n",
              "      <td>NaN</td>\n",
              "      <td>NaN</td>\n",
              "      <td>NaN</td>\n",
              "      <td>NaN</td>\n",
              "      <td>NaN</td>\n",
              "      <td>NaN</td>\n",
              "      <td>NaN</td>\n",
              "      <td>NaN</td>\n",
              "      <td>NaN</td>\n",
              "      <td>NaN</td>\n",
              "      <td>NaN</td>\n",
              "      <td>NaN</td>\n",
              "      <td>NaN</td>\n",
              "      <td>NaN</td>\n",
              "      <td>NaN</td>\n",
              "    </tr>\n",
              "  </tbody>\n",
              "</table>\n",
              "<p>2 rows × 256 columns</p>\n",
              "</div>"
            ],
            "text/plain": [
              "   transaction_id  product_id  ...  Unnamed: 254 Unnamed: 255\n",
              "0               1           2  ...           NaN          NaN\n",
              "1               2           3  ...           NaN          NaN\n",
              "\n",
              "[2 rows x 256 columns]"
            ]
          },
          "metadata": {},
          "execution_count": 142
        }
      ]
    },
    {
      "cell_type": "code",
      "metadata": {
        "id": "6yzwfSpj92Kd"
      },
      "source": [
        "drop_cols = txn.loc[:,'Unnamed: 13':].columns.to_list()\n",
        "txn.drop(labels=drop_cols,axis=1,inplace=True)"
      ],
      "execution_count": 143,
      "outputs": []
    },
    {
      "cell_type": "code",
      "metadata": {
        "id": "EJIwl-VDDhQn"
      },
      "source": [
        "def check_shape(dataframe):\n",
        "  rows = dataframe.shape[0]\n",
        "  cols = dataframe.shape[1]\n",
        "  print('Dataset: \\nNumber of Records: {}\\nNumber of Columns: {}'.format(rows,cols))"
      ],
      "execution_count": 144,
      "outputs": []
    },
    {
      "cell_type": "code",
      "metadata": {
        "colab": {
          "base_uri": "https://localhost:8080/"
        },
        "id": "u-fiIeXM_WUG",
        "outputId": "6637631b-bfbc-449c-b091-5758ec15aed8"
      },
      "source": [
        "check_shape(txn)"
      ],
      "execution_count": 145,
      "outputs": [
        {
          "output_type": "stream",
          "name": "stdout",
          "text": [
            "Dataset: \n",
            "Number of Records: 20000\n",
            "Number of Columns: 13\n"
          ]
        }
      ]
    },
    {
      "cell_type": "code",
      "metadata": {
        "colab": {
          "base_uri": "https://localhost:8080/"
        },
        "id": "nK1vb-oJ_cZx",
        "outputId": "39191541-6814-44a1-ecc0-8d25bc37cf10"
      },
      "source": [
        "txn.info()"
      ],
      "execution_count": 146,
      "outputs": [
        {
          "output_type": "stream",
          "name": "stdout",
          "text": [
            "<class 'pandas.core.frame.DataFrame'>\n",
            "RangeIndex: 20000 entries, 0 to 19999\n",
            "Data columns (total 13 columns):\n",
            " #   Column                   Non-Null Count  Dtype  \n",
            "---  ------                   --------------  -----  \n",
            " 0   transaction_id           20000 non-null  int64  \n",
            " 1   product_id               20000 non-null  int64  \n",
            " 2   customer_id              20000 non-null  int64  \n",
            " 3   transaction_date         20000 non-null  object \n",
            " 4   online_order             19640 non-null  object \n",
            " 5   order_status             20000 non-null  object \n",
            " 6   brand                    19803 non-null  object \n",
            " 7   product_line             19803 non-null  object \n",
            " 8   product_class            19803 non-null  object \n",
            " 9   product_size             19803 non-null  object \n",
            " 10  list_price               20000 non-null  float64\n",
            " 11  standard_cost            19803 non-null  object \n",
            " 12  product_first_sold_date  19803 non-null  float64\n",
            "dtypes: float64(2), int64(3), object(8)\n",
            "memory usage: 2.0+ MB\n"
          ]
        }
      ]
    },
    {
      "cell_type": "code",
      "metadata": {
        "colab": {
          "base_uri": "https://localhost:8080/",
          "height": 318
        },
        "id": "KkPIJY9q_hlq",
        "outputId": "0dbf484e-c578-47c2-f772-bc1075e56d9a"
      },
      "source": [
        "# Count of unique customer ids\n",
        "print(len(txn.customer_id.unique()))\n",
        "\n",
        "txn.describe()"
      ],
      "execution_count": 147,
      "outputs": [
        {
          "output_type": "stream",
          "name": "stdout",
          "text": [
            "3494\n"
          ]
        },
        {
          "output_type": "execute_result",
          "data": {
            "text/html": [
              "<div>\n",
              "<style scoped>\n",
              "    .dataframe tbody tr th:only-of-type {\n",
              "        vertical-align: middle;\n",
              "    }\n",
              "\n",
              "    .dataframe tbody tr th {\n",
              "        vertical-align: top;\n",
              "    }\n",
              "\n",
              "    .dataframe thead th {\n",
              "        text-align: right;\n",
              "    }\n",
              "</style>\n",
              "<table border=\"1\" class=\"dataframe\">\n",
              "  <thead>\n",
              "    <tr style=\"text-align: right;\">\n",
              "      <th></th>\n",
              "      <th>transaction_id</th>\n",
              "      <th>product_id</th>\n",
              "      <th>customer_id</th>\n",
              "      <th>list_price</th>\n",
              "      <th>product_first_sold_date</th>\n",
              "    </tr>\n",
              "  </thead>\n",
              "  <tbody>\n",
              "    <tr>\n",
              "      <th>count</th>\n",
              "      <td>20000.000000</td>\n",
              "      <td>20000.00000</td>\n",
              "      <td>20000.000000</td>\n",
              "      <td>20000.000000</td>\n",
              "      <td>19803.000000</td>\n",
              "    </tr>\n",
              "    <tr>\n",
              "      <th>mean</th>\n",
              "      <td>10000.500000</td>\n",
              "      <td>45.36465</td>\n",
              "      <td>1738.246050</td>\n",
              "      <td>1107.829449</td>\n",
              "      <td>38199.776549</td>\n",
              "    </tr>\n",
              "    <tr>\n",
              "      <th>std</th>\n",
              "      <td>5773.647028</td>\n",
              "      <td>30.75359</td>\n",
              "      <td>1011.951046</td>\n",
              "      <td>582.825242</td>\n",
              "      <td>2875.201110</td>\n",
              "    </tr>\n",
              "    <tr>\n",
              "      <th>min</th>\n",
              "      <td>1.000000</td>\n",
              "      <td>0.00000</td>\n",
              "      <td>1.000000</td>\n",
              "      <td>12.010000</td>\n",
              "      <td>33259.000000</td>\n",
              "    </tr>\n",
              "    <tr>\n",
              "      <th>25%</th>\n",
              "      <td>5000.750000</td>\n",
              "      <td>18.00000</td>\n",
              "      <td>857.750000</td>\n",
              "      <td>575.270000</td>\n",
              "      <td>35667.000000</td>\n",
              "    </tr>\n",
              "    <tr>\n",
              "      <th>50%</th>\n",
              "      <td>10000.500000</td>\n",
              "      <td>44.00000</td>\n",
              "      <td>1736.000000</td>\n",
              "      <td>1163.890000</td>\n",
              "      <td>38216.000000</td>\n",
              "    </tr>\n",
              "    <tr>\n",
              "      <th>75%</th>\n",
              "      <td>15000.250000</td>\n",
              "      <td>72.00000</td>\n",
              "      <td>2613.000000</td>\n",
              "      <td>1635.300000</td>\n",
              "      <td>40672.000000</td>\n",
              "    </tr>\n",
              "    <tr>\n",
              "      <th>max</th>\n",
              "      <td>20000.000000</td>\n",
              "      <td>100.00000</td>\n",
              "      <td>5034.000000</td>\n",
              "      <td>2091.470000</td>\n",
              "      <td>42710.000000</td>\n",
              "    </tr>\n",
              "  </tbody>\n",
              "</table>\n",
              "</div>"
            ],
            "text/plain": [
              "       transaction_id   product_id  ...    list_price  product_first_sold_date\n",
              "count    20000.000000  20000.00000  ...  20000.000000             19803.000000\n",
              "mean     10000.500000     45.36465  ...   1107.829449             38199.776549\n",
              "std       5773.647028     30.75359  ...    582.825242              2875.201110\n",
              "min          1.000000      0.00000  ...     12.010000             33259.000000\n",
              "25%       5000.750000     18.00000  ...    575.270000             35667.000000\n",
              "50%      10000.500000     44.00000  ...   1163.890000             38216.000000\n",
              "75%      15000.250000     72.00000  ...   1635.300000             40672.000000\n",
              "max      20000.000000    100.00000  ...   2091.470000             42710.000000\n",
              "\n",
              "[8 rows x 5 columns]"
            ]
          },
          "metadata": {},
          "execution_count": 147
        }
      ]
    },
    {
      "cell_type": "code",
      "metadata": {
        "id": "F2tugi_gAnSL"
      },
      "source": [
        "obj_cols = txn.select_dtypes(np.object).columns.to_list()"
      ],
      "execution_count": 148,
      "outputs": []
    },
    {
      "cell_type": "code",
      "metadata": {
        "colab": {
          "base_uri": "https://localhost:8080/"
        },
        "id": "yBHOnDdPBu7u",
        "outputId": "fe95c4b8-6086-4afb-ea4f-26919a8d7aa2"
      },
      "source": [
        "for col in obj_cols:\n",
        "  print('Column Name: ',col,'\\n')\n",
        "  print('---------------------------------------')\n",
        "  print(txn[col].value_counts())\n",
        "  print('---------------------------------------')"
      ],
      "execution_count": 149,
      "outputs": [
        {
          "output_type": "stream",
          "name": "stdout",
          "text": [
            "Column Name:  transaction_date \n",
            "\n",
            "---------------------------------------\n",
            "18-08-17    82\n",
            "14-02-17    82\n",
            "15-10-17    76\n",
            "31-01-17    73\n",
            "19-12-17    71\n",
            "            ..\n",
            "12-01-17    38\n",
            "07-12-17    37\n",
            "29-03-17    36\n",
            "25-09-17    35\n",
            "19-10-17    32\n",
            "Name: transaction_date, Length: 364, dtype: int64\n",
            "---------------------------------------\n",
            "Column Name:  online_order \n",
            "\n",
            "---------------------------------------\n",
            "True     9829\n",
            "False    9811\n",
            "Name: online_order, dtype: int64\n",
            "---------------------------------------\n",
            "Column Name:  order_status \n",
            "\n",
            "---------------------------------------\n",
            "Approved     19821\n",
            "Cancelled      179\n",
            "Name: order_status, dtype: int64\n",
            "---------------------------------------\n",
            "Column Name:  brand \n",
            "\n",
            "---------------------------------------\n",
            "Solex             4253\n",
            "Giant Bicycles    3312\n",
            "WeareA2B          3295\n",
            "OHM Cycles        3043\n",
            "Trek Bicycles     2990\n",
            "Norco Bicycles    2910\n",
            "Name: brand, dtype: int64\n",
            "---------------------------------------\n",
            "Column Name:  product_line \n",
            "\n",
            "---------------------------------------\n",
            "Standard    14176\n",
            "Road         3970\n",
            "Touring      1234\n",
            "Mountain      423\n",
            "Name: product_line, dtype: int64\n",
            "---------------------------------------\n",
            "Column Name:  product_class \n",
            "\n",
            "---------------------------------------\n",
            "medium    13826\n",
            "high       3013\n",
            "low        2964\n",
            "Name: product_class, dtype: int64\n",
            "---------------------------------------\n",
            "Column Name:  product_size \n",
            "\n",
            "---------------------------------------\n",
            "medium    12990\n",
            "large      3976\n",
            "small      2837\n",
            "Name: product_size, dtype: int64\n",
            "---------------------------------------\n",
            "Column Name:  standard_cost \n",
            "\n",
            "---------------------------------------\n",
            "$388.92        465\n",
            "$954.82        396\n",
            "$53.62         274\n",
            "$161.60        235\n",
            "$260.14        233\n",
            "              ... \n",
            "$151.96        124\n",
            "$206.35        114\n",
            "667.4000244      1\n",
            "270.2999878      1\n",
            "312.7350159      1\n",
            "Name: standard_cost, Length: 103, dtype: int64\n",
            "---------------------------------------\n"
          ]
        }
      ]
    },
    {
      "cell_type": "markdown",
      "metadata": {
        "id": "BOzv8mRVBUCG"
      },
      "source": [
        "Cost should have been a numeric column, because of currency symbol it is Object"
      ]
    },
    {
      "cell_type": "code",
      "metadata": {
        "id": "MSxqfrDw_p16"
      },
      "source": [
        "null_cols = txn.isnull().sum().to_frame('Count')\n",
        "#null_cols[null_cols.Count>0].shape[0]"
      ],
      "execution_count": 150,
      "outputs": []
    },
    {
      "cell_type": "markdown",
      "metadata": {
        "id": "wnPzR-FYEJxG"
      },
      "source": [
        "There are 7 columns out of 13 with missing values"
      ]
    },
    {
      "cell_type": "code",
      "metadata": {
        "colab": {
          "base_uri": "https://localhost:8080/",
          "height": 300
        },
        "id": "Xv_DlKypDZQe",
        "outputId": "a269a504-4690-4510-b141-74c9c66a89b3"
      },
      "source": [
        "int_cols  = txn.select_dtypes(np.int).columns.to_list()\n",
        "txn[int_cols].describe()"
      ],
      "execution_count": 151,
      "outputs": [
        {
          "output_type": "execute_result",
          "data": {
            "text/html": [
              "<div>\n",
              "<style scoped>\n",
              "    .dataframe tbody tr th:only-of-type {\n",
              "        vertical-align: middle;\n",
              "    }\n",
              "\n",
              "    .dataframe tbody tr th {\n",
              "        vertical-align: top;\n",
              "    }\n",
              "\n",
              "    .dataframe thead th {\n",
              "        text-align: right;\n",
              "    }\n",
              "</style>\n",
              "<table border=\"1\" class=\"dataframe\">\n",
              "  <thead>\n",
              "    <tr style=\"text-align: right;\">\n",
              "      <th></th>\n",
              "      <th>transaction_id</th>\n",
              "      <th>product_id</th>\n",
              "      <th>customer_id</th>\n",
              "    </tr>\n",
              "  </thead>\n",
              "  <tbody>\n",
              "    <tr>\n",
              "      <th>count</th>\n",
              "      <td>20000.000000</td>\n",
              "      <td>20000.00000</td>\n",
              "      <td>20000.000000</td>\n",
              "    </tr>\n",
              "    <tr>\n",
              "      <th>mean</th>\n",
              "      <td>10000.500000</td>\n",
              "      <td>45.36465</td>\n",
              "      <td>1738.246050</td>\n",
              "    </tr>\n",
              "    <tr>\n",
              "      <th>std</th>\n",
              "      <td>5773.647028</td>\n",
              "      <td>30.75359</td>\n",
              "      <td>1011.951046</td>\n",
              "    </tr>\n",
              "    <tr>\n",
              "      <th>min</th>\n",
              "      <td>1.000000</td>\n",
              "      <td>0.00000</td>\n",
              "      <td>1.000000</td>\n",
              "    </tr>\n",
              "    <tr>\n",
              "      <th>25%</th>\n",
              "      <td>5000.750000</td>\n",
              "      <td>18.00000</td>\n",
              "      <td>857.750000</td>\n",
              "    </tr>\n",
              "    <tr>\n",
              "      <th>50%</th>\n",
              "      <td>10000.500000</td>\n",
              "      <td>44.00000</td>\n",
              "      <td>1736.000000</td>\n",
              "    </tr>\n",
              "    <tr>\n",
              "      <th>75%</th>\n",
              "      <td>15000.250000</td>\n",
              "      <td>72.00000</td>\n",
              "      <td>2613.000000</td>\n",
              "    </tr>\n",
              "    <tr>\n",
              "      <th>max</th>\n",
              "      <td>20000.000000</td>\n",
              "      <td>100.00000</td>\n",
              "      <td>5034.000000</td>\n",
              "    </tr>\n",
              "  </tbody>\n",
              "</table>\n",
              "</div>"
            ],
            "text/plain": [
              "       transaction_id   product_id   customer_id\n",
              "count    20000.000000  20000.00000  20000.000000\n",
              "mean     10000.500000     45.36465   1738.246050\n",
              "std       5773.647028     30.75359   1011.951046\n",
              "min          1.000000      0.00000      1.000000\n",
              "25%       5000.750000     18.00000    857.750000\n",
              "50%      10000.500000     44.00000   1736.000000\n",
              "75%      15000.250000     72.00000   2613.000000\n",
              "max      20000.000000    100.00000   5034.000000"
            ]
          },
          "metadata": {},
          "execution_count": 151
        }
      ]
    },
    {
      "cell_type": "code",
      "metadata": {
        "colab": {
          "base_uri": "https://localhost:8080/",
          "height": 300
        },
        "id": "IW-nhiEyFyv5",
        "outputId": "7885267d-e927-4490-94a9-cbf06143d682"
      },
      "source": [
        "float_cols  = txn.select_dtypes(np.float).columns.to_list()\n",
        "txn[float_cols].describe()"
      ],
      "execution_count": 152,
      "outputs": [
        {
          "output_type": "execute_result",
          "data": {
            "text/html": [
              "<div>\n",
              "<style scoped>\n",
              "    .dataframe tbody tr th:only-of-type {\n",
              "        vertical-align: middle;\n",
              "    }\n",
              "\n",
              "    .dataframe tbody tr th {\n",
              "        vertical-align: top;\n",
              "    }\n",
              "\n",
              "    .dataframe thead th {\n",
              "        text-align: right;\n",
              "    }\n",
              "</style>\n",
              "<table border=\"1\" class=\"dataframe\">\n",
              "  <thead>\n",
              "    <tr style=\"text-align: right;\">\n",
              "      <th></th>\n",
              "      <th>list_price</th>\n",
              "      <th>product_first_sold_date</th>\n",
              "    </tr>\n",
              "  </thead>\n",
              "  <tbody>\n",
              "    <tr>\n",
              "      <th>count</th>\n",
              "      <td>20000.000000</td>\n",
              "      <td>19803.000000</td>\n",
              "    </tr>\n",
              "    <tr>\n",
              "      <th>mean</th>\n",
              "      <td>1107.829449</td>\n",
              "      <td>38199.776549</td>\n",
              "    </tr>\n",
              "    <tr>\n",
              "      <th>std</th>\n",
              "      <td>582.825242</td>\n",
              "      <td>2875.201110</td>\n",
              "    </tr>\n",
              "    <tr>\n",
              "      <th>min</th>\n",
              "      <td>12.010000</td>\n",
              "      <td>33259.000000</td>\n",
              "    </tr>\n",
              "    <tr>\n",
              "      <th>25%</th>\n",
              "      <td>575.270000</td>\n",
              "      <td>35667.000000</td>\n",
              "    </tr>\n",
              "    <tr>\n",
              "      <th>50%</th>\n",
              "      <td>1163.890000</td>\n",
              "      <td>38216.000000</td>\n",
              "    </tr>\n",
              "    <tr>\n",
              "      <th>75%</th>\n",
              "      <td>1635.300000</td>\n",
              "      <td>40672.000000</td>\n",
              "    </tr>\n",
              "    <tr>\n",
              "      <th>max</th>\n",
              "      <td>2091.470000</td>\n",
              "      <td>42710.000000</td>\n",
              "    </tr>\n",
              "  </tbody>\n",
              "</table>\n",
              "</div>"
            ],
            "text/plain": [
              "         list_price  product_first_sold_date\n",
              "count  20000.000000             19803.000000\n",
              "mean    1107.829449             38199.776549\n",
              "std      582.825242              2875.201110\n",
              "min       12.010000             33259.000000\n",
              "25%      575.270000             35667.000000\n",
              "50%     1163.890000             38216.000000\n",
              "75%     1635.300000             40672.000000\n",
              "max     2091.470000             42710.000000"
            ]
          },
          "metadata": {},
          "execution_count": 152
        }
      ]
    },
    {
      "cell_type": "markdown",
      "metadata": {
        "id": "XkSMscoPF52f"
      },
      "source": [
        "Values in the product_first_sold_date column are invalid"
      ]
    },
    {
      "cell_type": "code",
      "metadata": {
        "colab": {
          "base_uri": "https://localhost:8080/",
          "height": 283
        },
        "id": "xtRW4peaF_VU",
        "outputId": "0e237848-07b4-47d7-88f0-8aa5ba3e4809"
      },
      "source": [
        "txn.list_price.plot.box()"
      ],
      "execution_count": 153,
      "outputs": [
        {
          "output_type": "execute_result",
          "data": {
            "text/plain": [
              "<matplotlib.axes._subplots.AxesSubplot at 0x7f19562f1710>"
            ]
          },
          "metadata": {},
          "execution_count": 153
        },
        {
          "output_type": "display_data",
          "data": {
            "image/png": "[encoded data removed]",
            "text/plain": [
              "<Figure size 432x288 with 1 Axes>"
            ]
          },
          "metadata": {
            "needs_background": "light"
          }
        }
      ]
    },
    {
      "cell_type": "code",
      "metadata": {
        "id": "jEFj8A4CK7WB"
      },
      "source": [
        "txn.transaction_date = pd.to_datetime(txn.transaction_date)"
      ],
      "execution_count": 154,
      "outputs": []
    },
    {
      "cell_type": "code",
      "metadata": {
        "id": "WY-3Ml1fHlX3"
      },
      "source": [
        "txn.transaction_date = pd.to_datetime(txn.transaction_date)\n",
        "txn['txn_year'] = txn['transaction_date'].dt.year\n",
        "txn['txn_month'] = txn['transaction_date'].dt.month\n",
        "txn['txn_date'] = txn['transaction_date'].dt.day"
      ],
      "execution_count": 155,
      "outputs": []
    },
    {
      "cell_type": "code",
      "metadata": {
        "colab": {
          "base_uri": "https://localhost:8080/"
        },
        "id": "-m9FyKlML-Nj",
        "outputId": "34cd740d-7bbd-4ed7-b1fe-060cd701bab9"
      },
      "source": [
        "print(len(txn.txn_date.value_counts()))\n",
        "txn.txn_year.value_counts()"
      ],
      "execution_count": 156,
      "outputs": [
        {
          "output_type": "stream",
          "name": "stdout",
          "text": [
            "31\n"
          ]
        },
        {
          "output_type": "execute_result",
          "data": {
            "text/plain": [
              "2017    20000\n",
              "Name: txn_year, dtype: int64"
            ]
          },
          "metadata": {},
          "execution_count": 156
        }
      ]
    },
    {
      "cell_type": "code",
      "metadata": {
        "colab": {
          "base_uri": "https://localhost:8080/"
        },
        "id": "1M300gq8MLtT",
        "outputId": "e4f58a00-4a8b-4c84-9810-5137b0103090"
      },
      "source": [
        "txn.txn_month.value_counts()"
      ],
      "execution_count": 157,
      "outputs": [
        {
          "output_type": "execute_result",
          "data": {
            "text/plain": [
              "8     1786\n",
              "10    1748\n",
              "1     1690\n",
              "11    1689\n",
              "7     1681\n",
              "5     1679\n",
              "3     1652\n",
              "12    1636\n",
              "9     1621\n",
              "2     1608\n",
              "4     1606\n",
              "6     1604\n",
              "Name: txn_month, dtype: int64"
            ]
          },
          "metadata": {},
          "execution_count": 157
        }
      ]
    },
    {
      "cell_type": "code",
      "metadata": {
        "colab": {
          "base_uri": "https://localhost:8080/"
        },
        "id": "0VLNZcj_-4EN",
        "outputId": "dc892b06-22f3-4b53-c704-2ca2196ff57c"
      },
      "source": [
        "txn.isna().sum()"
      ],
      "execution_count": 158,
      "outputs": [
        {
          "output_type": "execute_result",
          "data": {
            "text/plain": [
              "transaction_id               0\n",
              "product_id                   0\n",
              "customer_id                  0\n",
              "transaction_date             0\n",
              "online_order               360\n",
              "order_status                 0\n",
              "brand                      197\n",
              "product_line               197\n",
              "product_class              197\n",
              "product_size               197\n",
              "list_price                   0\n",
              "standard_cost              197\n",
              "product_first_sold_date    197\n",
              "txn_year                     0\n",
              "txn_month                    0\n",
              "txn_date                     0\n",
              "dtype: int64"
            ]
          },
          "metadata": {},
          "execution_count": 158
        }
      ]
    },
    {
      "cell_type": "code",
      "metadata": {
        "id": "L6IaojykFRSO"
      },
      "source": [
        "txn.dropna(axis=0,inplace=True)"
      ],
      "execution_count": 159,
      "outputs": []
    },
    {
      "cell_type": "code",
      "metadata": {
        "colab": {
          "base_uri": "https://localhost:8080/"
        },
        "id": "qz1HmYTv_EoY",
        "outputId": "1a7308ac-f243-402a-fc12-5e18f169cdf7"
      },
      "source": [
        "check_shape(txn)"
      ],
      "execution_count": 160,
      "outputs": [
        {
          "output_type": "stream",
          "name": "stdout",
          "text": [
            "Dataset: \n",
            "Number of Records: 19445\n",
            "Number of Columns: 16\n"
          ]
        }
      ]
    },
    {
      "cell_type": "code",
      "metadata": {
        "colab": {
          "base_uri": "https://localhost:8080/"
        },
        "id": "Sbus4JMHYIpx",
        "outputId": "de6bc79d-23a6-4587-819e-848f8edfa650"
      },
      "source": [
        "cust_ids_t = txn.customer_id.value_counts().to_frame('Count')\n",
        "cust_ids_t[cust_ids_t.Count==1].sum()"
      ],
      "execution_count": 161,
      "outputs": [
        {
          "output_type": "execute_result",
          "data": {
            "text/plain": [
              "Count    61\n",
              "dtype: int64"
            ]
          },
          "metadata": {},
          "execution_count": 161
        }
      ]
    },
    {
      "cell_type": "code",
      "metadata": {
        "colab": {
          "base_uri": "https://localhost:8080/",
          "height": 198
        },
        "id": "WbF6MLHdkiQW",
        "outputId": "313d254f-9f22-4e9e-b8b8-d8c8de31c116"
      },
      "source": [
        "txn.head(3)"
      ],
      "execution_count": 162,
      "outputs": [
        {
          "output_type": "execute_result",
          "data": {
            "text/html": [
              "<div>\n",
              "<style scoped>\n",
              "    .dataframe tbody tr th:only-of-type {\n",
              "        vertical-align: middle;\n",
              "    }\n",
              "\n",
              "    .dataframe tbody tr th {\n",
              "        vertical-align: top;\n",
              "    }\n",
              "\n",
              "    .dataframe thead th {\n",
              "        text-align: right;\n",
              "    }\n",
              "</style>\n",
              "<table border=\"1\" class=\"dataframe\">\n",
              "  <thead>\n",
              "    <tr style=\"text-align: right;\">\n",
              "      <th></th>\n",
              "      <th>transaction_id</th>\n",
              "      <th>product_id</th>\n",
              "      <th>customer_id</th>\n",
              "      <th>transaction_date</th>\n",
              "      <th>online_order</th>\n",
              "      <th>order_status</th>\n",
              "      <th>brand</th>\n",
              "      <th>product_line</th>\n",
              "      <th>product_class</th>\n",
              "      <th>product_size</th>\n",
              "      <th>list_price</th>\n",
              "      <th>standard_cost</th>\n",
              "      <th>product_first_sold_date</th>\n",
              "      <th>txn_year</th>\n",
              "      <th>txn_month</th>\n",
              "      <th>txn_date</th>\n",
              "    </tr>\n",
              "  </thead>\n",
              "  <tbody>\n",
              "    <tr>\n",
              "      <th>0</th>\n",
              "      <td>1</td>\n",
              "      <td>2</td>\n",
              "      <td>2950</td>\n",
              "      <td>2017-02-25</td>\n",
              "      <td>False</td>\n",
              "      <td>Approved</td>\n",
              "      <td>Solex</td>\n",
              "      <td>Standard</td>\n",
              "      <td>medium</td>\n",
              "      <td>medium</td>\n",
              "      <td>71.49</td>\n",
              "      <td>$53.62</td>\n",
              "      <td>41245.0</td>\n",
              "      <td>2017</td>\n",
              "      <td>2</td>\n",
              "      <td>25</td>\n",
              "    </tr>\n",
              "    <tr>\n",
              "      <th>1</th>\n",
              "      <td>2</td>\n",
              "      <td>3</td>\n",
              "      <td>3120</td>\n",
              "      <td>2017-05-21</td>\n",
              "      <td>True</td>\n",
              "      <td>Approved</td>\n",
              "      <td>Trek Bicycles</td>\n",
              "      <td>Standard</td>\n",
              "      <td>medium</td>\n",
              "      <td>large</td>\n",
              "      <td>2091.47</td>\n",
              "      <td>$388.92</td>\n",
              "      <td>41701.0</td>\n",
              "      <td>2017</td>\n",
              "      <td>5</td>\n",
              "      <td>21</td>\n",
              "    </tr>\n",
              "    <tr>\n",
              "      <th>2</th>\n",
              "      <td>3</td>\n",
              "      <td>37</td>\n",
              "      <td>402</td>\n",
              "      <td>2017-10-16</td>\n",
              "      <td>False</td>\n",
              "      <td>Approved</td>\n",
              "      <td>OHM Cycles</td>\n",
              "      <td>Standard</td>\n",
              "      <td>low</td>\n",
              "      <td>medium</td>\n",
              "      <td>1793.43</td>\n",
              "      <td>$248.82</td>\n",
              "      <td>36361.0</td>\n",
              "      <td>2017</td>\n",
              "      <td>10</td>\n",
              "      <td>16</td>\n",
              "    </tr>\n",
              "  </tbody>\n",
              "</table>\n",
              "</div>"
            ],
            "text/plain": [
              "   transaction_id  product_id  customer_id  ... txn_year txn_month txn_date\n",
              "0               1           2         2950  ...     2017         2       25\n",
              "1               2           3         3120  ...     2017         5       21\n",
              "2               3          37          402  ...     2017        10       16\n",
              "\n",
              "[3 rows x 16 columns]"
            ]
          },
          "metadata": {},
          "execution_count": 162
        }
      ]
    },
    {
      "cell_type": "code",
      "metadata": {
        "id": "2FXpna0wl0CP"
      },
      "source": [
        "# Let's replace $ in standard_cost column\n",
        "import re\n",
        "pattern = r'[$,]'"
      ],
      "execution_count": 163,
      "outputs": []
    },
    {
      "cell_type": "code",
      "metadata": {
        "colab": {
          "base_uri": "https://localhost:8080/"
        },
        "id": "Bl5bhpS8kyiw",
        "outputId": "cd67a1bd-2510-4075-a74d-58bda7046b2c"
      },
      "source": [
        "txn['standard_cost'] = txn['standard_cost'].apply(lambda x: re.sub(pattern,'',x))\n",
        "txn['standard_cost'].astype(float) "
      ],
      "execution_count": 164,
      "outputs": [
        {
          "output_type": "execute_result",
          "data": {
            "text/plain": [
              "0          53.62\n",
              "1         388.92\n",
              "2         248.82\n",
              "3         381.10\n",
              "4         709.48\n",
              "          ...   \n",
              "19995    1203.40\n",
              "19996     312.74\n",
              "19997      44.71\n",
              "19998     136.73\n",
              "19999    1580.47\n",
              "Name: standard_cost, Length: 19445, dtype: float64"
            ]
          },
          "metadata": {},
          "execution_count": 164
        }
      ]
    },
    {
      "cell_type": "code",
      "metadata": {
        "id": "w_0KbSSwpwAv"
      },
      "source": [
        "txn.drop(labels=['product_first_sold_date'],axis=1,inplace=True)"
      ],
      "execution_count": 165,
      "outputs": []
    },
    {
      "cell_type": "markdown",
      "metadata": {
        "id": "i_UpX-ApQkN9"
      },
      "source": [
        "## 2.Customer Address"
      ]
    },
    {
      "cell_type": "code",
      "metadata": {
        "colab": {
          "base_uri": "https://localhost:8080/",
          "height": 331
        },
        "id": "xrOucTEhQnfj",
        "outputId": "9e785d68-3203-4d9b-96d7-d23579191a14"
      },
      "source": [
        "cust_add.head(3)"
      ],
      "execution_count": 166,
      "outputs": [
        {
          "output_type": "execute_result",
          "data": {
            "text/html": [
              "<div>\n",
              "<style scoped>\n",
              "    .dataframe tbody tr th:only-of-type {\n",
              "        vertical-align: middle;\n",
              "    }\n",
              "\n",
              "    .dataframe tbody tr th {\n",
              "        vertical-align: top;\n",
              "    }\n",
              "\n",
              "    .dataframe thead th {\n",
              "        text-align: right;\n",
              "    }\n",
              "</style>\n",
              "<table border=\"1\" class=\"dataframe\">\n",
              "  <thead>\n",
              "    <tr style=\"text-align: right;\">\n",
              "      <th></th>\n",
              "      <th>customer_id</th>\n",
              "      <th>address</th>\n",
              "      <th>postcode</th>\n",
              "      <th>state</th>\n",
              "      <th>country</th>\n",
              "      <th>property_valuation</th>\n",
              "      <th>Unnamed: 6</th>\n",
              "      <th>Unnamed: 7</th>\n",
              "      <th>Unnamed: 8</th>\n",
              "      <th>Unnamed: 9</th>\n",
              "      <th>Unnamed: 10</th>\n",
              "      <th>Unnamed: 11</th>\n",
              "      <th>Unnamed: 12</th>\n",
              "      <th>Unnamed: 13</th>\n",
              "      <th>Unnamed: 14</th>\n",
              "      <th>Unnamed: 15</th>\n",
              "      <th>Unnamed: 16</th>\n",
              "      <th>Unnamed: 17</th>\n",
              "      <th>Unnamed: 18</th>\n",
              "      <th>Unnamed: 19</th>\n",
              "      <th>Unnamed: 20</th>\n",
              "      <th>Unnamed: 21</th>\n",
              "      <th>Unnamed: 22</th>\n",
              "      <th>Unnamed: 23</th>\n",
              "      <th>Unnamed: 24</th>\n",
              "      <th>Unnamed: 25</th>\n",
              "      <th>Unnamed: 26</th>\n",
              "      <th>Unnamed: 27</th>\n",
              "      <th>Unnamed: 28</th>\n",
              "      <th>Unnamed: 29</th>\n",
              "      <th>Unnamed: 30</th>\n",
              "      <th>Unnamed: 31</th>\n",
              "      <th>Unnamed: 32</th>\n",
              "      <th>Unnamed: 33</th>\n",
              "      <th>Unnamed: 34</th>\n",
              "      <th>Unnamed: 35</th>\n",
              "      <th>Unnamed: 36</th>\n",
              "      <th>Unnamed: 37</th>\n",
              "      <th>Unnamed: 38</th>\n",
              "      <th>Unnamed: 39</th>\n",
              "      <th>...</th>\n",
              "      <th>Unnamed: 216</th>\n",
              "      <th>Unnamed: 217</th>\n",
              "      <th>Unnamed: 218</th>\n",
              "      <th>Unnamed: 219</th>\n",
              "      <th>Unnamed: 220</th>\n",
              "      <th>Unnamed: 221</th>\n",
              "      <th>Unnamed: 222</th>\n",
              "      <th>Unnamed: 223</th>\n",
              "      <th>Unnamed: 224</th>\n",
              "      <th>Unnamed: 225</th>\n",
              "      <th>Unnamed: 226</th>\n",
              "      <th>Unnamed: 227</th>\n",
              "      <th>Unnamed: 228</th>\n",
              "      <th>Unnamed: 229</th>\n",
              "      <th>Unnamed: 230</th>\n",
              "      <th>Unnamed: 231</th>\n",
              "      <th>Unnamed: 232</th>\n",
              "      <th>Unnamed: 233</th>\n",
              "      <th>Unnamed: 234</th>\n",
              "      <th>Unnamed: 235</th>\n",
              "      <th>Unnamed: 236</th>\n",
              "      <th>Unnamed: 237</th>\n",
              "      <th>Unnamed: 238</th>\n",
              "      <th>Unnamed: 239</th>\n",
              "      <th>Unnamed: 240</th>\n",
              "      <th>Unnamed: 241</th>\n",
              "      <th>Unnamed: 242</th>\n",
              "      <th>Unnamed: 243</th>\n",
              "      <th>Unnamed: 244</th>\n",
              "      <th>Unnamed: 245</th>\n",
              "      <th>Unnamed: 246</th>\n",
              "      <th>Unnamed: 247</th>\n",
              "      <th>Unnamed: 248</th>\n",
              "      <th>Unnamed: 249</th>\n",
              "      <th>Unnamed: 250</th>\n",
              "      <th>Unnamed: 251</th>\n",
              "      <th>Unnamed: 252</th>\n",
              "      <th>Unnamed: 253</th>\n",
              "      <th>Unnamed: 254</th>\n",
              "      <th>Unnamed: 255</th>\n",
              "    </tr>\n",
              "  </thead>\n",
              "  <tbody>\n",
              "    <tr>\n",
              "      <th>0</th>\n",
              "      <td>1</td>\n",
              "      <td>060 Morning Avenue</td>\n",
              "      <td>2016</td>\n",
              "      <td>New South Wales</td>\n",
              "      <td>Australia</td>\n",
              "      <td>10</td>\n",
              "      <td>NaN</td>\n",
              "      <td>NaN</td>\n",
              "      <td>NaN</td>\n",
              "      <td>NaN</td>\n",
              "      <td>NaN</td>\n",
              "      <td>NaN</td>\n",
              "      <td>NaN</td>\n",
              "      <td>NaN</td>\n",
              "      <td>NaN</td>\n",
              "      <td>NaN</td>\n",
              "      <td>NaN</td>\n",
              "      <td>NaN</td>\n",
              "      <td>NaN</td>\n",
              "      <td>NaN</td>\n",
              "      <td>NaN</td>\n",
              "      <td>NaN</td>\n",
              "      <td>NaN</td>\n",
              "      <td>NaN</td>\n",
              "      <td>NaN</td>\n",
              "      <td>NaN</td>\n",
              "      <td>NaN</td>\n",
              "      <td>NaN</td>\n",
              "      <td>NaN</td>\n",
              "      <td>NaN</td>\n",
              "      <td>NaN</td>\n",
              "      <td>NaN</td>\n",
              "      <td>NaN</td>\n",
              "      <td>NaN</td>\n",
              "      <td>NaN</td>\n",
              "      <td>NaN</td>\n",
              "      <td>NaN</td>\n",
              "      <td>NaN</td>\n",
              "      <td>NaN</td>\n",
              "      <td>NaN</td>\n",
              "      <td>...</td>\n",
              "      <td>NaN</td>\n",
              "      <td>NaN</td>\n",
              "      <td>NaN</td>\n",
              "      <td>NaN</td>\n",
              "      <td>NaN</td>\n",
              "      <td>NaN</td>\n",
              "      <td>NaN</td>\n",
              "      <td>NaN</td>\n",
              "      <td>NaN</td>\n",
              "      <td>NaN</td>\n",
              "      <td>NaN</td>\n",
              "      <td>NaN</td>\n",
              "      <td>NaN</td>\n",
              "      <td>NaN</td>\n",
              "      <td>NaN</td>\n",
              "      <td>NaN</td>\n",
              "      <td>NaN</td>\n",
              "      <td>NaN</td>\n",
              "      <td>NaN</td>\n",
              "      <td>NaN</td>\n",
              "      <td>NaN</td>\n",
              "      <td>NaN</td>\n",
              "      <td>NaN</td>\n",
              "      <td>NaN</td>\n",
              "      <td>NaN</td>\n",
              "      <td>NaN</td>\n",
              "      <td>NaN</td>\n",
              "      <td>NaN</td>\n",
              "      <td>NaN</td>\n",
              "      <td>NaN</td>\n",
              "      <td>NaN</td>\n",
              "      <td>NaN</td>\n",
              "      <td>NaN</td>\n",
              "      <td>NaN</td>\n",
              "      <td>NaN</td>\n",
              "      <td>NaN</td>\n",
              "      <td>NaN</td>\n",
              "      <td>NaN</td>\n",
              "      <td>NaN</td>\n",
              "      <td>NaN</td>\n",
              "    </tr>\n",
              "    <tr>\n",
              "      <th>1</th>\n",
              "      <td>2</td>\n",
              "      <td>6 Meadow Vale Court</td>\n",
              "      <td>2153</td>\n",
              "      <td>New South Wales</td>\n",
              "      <td>Australia</td>\n",
              "      <td>10</td>\n",
              "      <td>NaN</td>\n",
              "      <td>NaN</td>\n",
              "      <td>NaN</td>\n",
              "      <td>NaN</td>\n",
              "      <td>NaN</td>\n",
              "      <td>NaN</td>\n",
              "      <td>NaN</td>\n",
              "      <td>NaN</td>\n",
              "      <td>NaN</td>\n",
              "      <td>NaN</td>\n",
              "      <td>NaN</td>\n",
              "      <td>NaN</td>\n",
              "      <td>NaN</td>\n",
              "      <td>NaN</td>\n",
              "      <td>NaN</td>\n",
              "      <td>NaN</td>\n",
              "      <td>NaN</td>\n",
              "      <td>NaN</td>\n",
              "      <td>NaN</td>\n",
              "      <td>NaN</td>\n",
              "      <td>NaN</td>\n",
              "      <td>NaN</td>\n",
              "      <td>NaN</td>\n",
              "      <td>NaN</td>\n",
              "      <td>NaN</td>\n",
              "      <td>NaN</td>\n",
              "      <td>NaN</td>\n",
              "      <td>NaN</td>\n",
              "      <td>NaN</td>\n",
              "      <td>NaN</td>\n",
              "      <td>NaN</td>\n",
              "      <td>NaN</td>\n",
              "      <td>NaN</td>\n",
              "      <td>NaN</td>\n",
              "      <td>...</td>\n",
              "      <td>NaN</td>\n",
              "      <td>NaN</td>\n",
              "      <td>NaN</td>\n",
              "      <td>NaN</td>\n",
              "      <td>NaN</td>\n",
              "      <td>NaN</td>\n",
              "      <td>NaN</td>\n",
              "      <td>NaN</td>\n",
              "      <td>NaN</td>\n",
              "      <td>NaN</td>\n",
              "      <td>NaN</td>\n",
              "      <td>NaN</td>\n",
              "      <td>NaN</td>\n",
              "      <td>NaN</td>\n",
              "      <td>NaN</td>\n",
              "      <td>NaN</td>\n",
              "      <td>NaN</td>\n",
              "      <td>NaN</td>\n",
              "      <td>NaN</td>\n",
              "      <td>NaN</td>\n",
              "      <td>NaN</td>\n",
              "      <td>NaN</td>\n",
              "      <td>NaN</td>\n",
              "      <td>NaN</td>\n",
              "      <td>NaN</td>\n",
              "      <td>NaN</td>\n",
              "      <td>NaN</td>\n",
              "      <td>NaN</td>\n",
              "      <td>NaN</td>\n",
              "      <td>NaN</td>\n",
              "      <td>NaN</td>\n",
              "      <td>NaN</td>\n",
              "      <td>NaN</td>\n",
              "      <td>NaN</td>\n",
              "      <td>NaN</td>\n",
              "      <td>NaN</td>\n",
              "      <td>NaN</td>\n",
              "      <td>NaN</td>\n",
              "      <td>NaN</td>\n",
              "      <td>NaN</td>\n",
              "    </tr>\n",
              "    <tr>\n",
              "      <th>2</th>\n",
              "      <td>4</td>\n",
              "      <td>0 Holy Cross Court</td>\n",
              "      <td>4211</td>\n",
              "      <td>QLD</td>\n",
              "      <td>Australia</td>\n",
              "      <td>9</td>\n",
              "      <td>NaN</td>\n",
              "      <td>NaN</td>\n",
              "      <td>NaN</td>\n",
              "      <td>NaN</td>\n",
              "      <td>NaN</td>\n",
              "      <td>NaN</td>\n",
              "      <td>NaN</td>\n",
              "      <td>NaN</td>\n",
              "      <td>NaN</td>\n",
              "      <td>NaN</td>\n",
              "      <td>NaN</td>\n",
              "      <td>NaN</td>\n",
              "      <td>NaN</td>\n",
              "      <td>NaN</td>\n",
              "      <td>NaN</td>\n",
              "      <td>NaN</td>\n",
              "      <td>NaN</td>\n",
              "      <td>NaN</td>\n",
              "      <td>NaN</td>\n",
              "      <td>NaN</td>\n",
              "      <td>NaN</td>\n",
              "      <td>NaN</td>\n",
              "      <td>NaN</td>\n",
              "      <td>NaN</td>\n",
              "      <td>NaN</td>\n",
              "      <td>NaN</td>\n",
              "      <td>NaN</td>\n",
              "      <td>NaN</td>\n",
              "      <td>NaN</td>\n",
              "      <td>NaN</td>\n",
              "      <td>NaN</td>\n",
              "      <td>NaN</td>\n",
              "      <td>NaN</td>\n",
              "      <td>NaN</td>\n",
              "      <td>...</td>\n",
              "      <td>NaN</td>\n",
              "      <td>NaN</td>\n",
              "      <td>NaN</td>\n",
              "      <td>NaN</td>\n",
              "      <td>NaN</td>\n",
              "      <td>NaN</td>\n",
              "      <td>NaN</td>\n",
              "      <td>NaN</td>\n",
              "      <td>NaN</td>\n",
              "      <td>NaN</td>\n",
              "      <td>NaN</td>\n",
              "      <td>NaN</td>\n",
              "      <td>NaN</td>\n",
              "      <td>NaN</td>\n",
              "      <td>NaN</td>\n",
              "      <td>NaN</td>\n",
              "      <td>NaN</td>\n",
              "      <td>NaN</td>\n",
              "      <td>NaN</td>\n",
              "      <td>NaN</td>\n",
              "      <td>NaN</td>\n",
              "      <td>NaN</td>\n",
              "      <td>NaN</td>\n",
              "      <td>NaN</td>\n",
              "      <td>NaN</td>\n",
              "      <td>NaN</td>\n",
              "      <td>NaN</td>\n",
              "      <td>NaN</td>\n",
              "      <td>NaN</td>\n",
              "      <td>NaN</td>\n",
              "      <td>NaN</td>\n",
              "      <td>NaN</td>\n",
              "      <td>NaN</td>\n",
              "      <td>NaN</td>\n",
              "      <td>NaN</td>\n",
              "      <td>NaN</td>\n",
              "      <td>NaN</td>\n",
              "      <td>NaN</td>\n",
              "      <td>NaN</td>\n",
              "      <td>NaN</td>\n",
              "    </tr>\n",
              "  </tbody>\n",
              "</table>\n",
              "<p>3 rows × 256 columns</p>\n",
              "</div>"
            ],
            "text/plain": [
              "   customer_id              address  ...  Unnamed: 254 Unnamed: 255\n",
              "0            1   060 Morning Avenue  ...           NaN          NaN\n",
              "1            2  6 Meadow Vale Court  ...           NaN          NaN\n",
              "2            4   0 Holy Cross Court  ...           NaN          NaN\n",
              "\n",
              "[3 rows x 256 columns]"
            ]
          },
          "metadata": {},
          "execution_count": 166
        }
      ]
    },
    {
      "cell_type": "code",
      "metadata": {
        "colab": {
          "base_uri": "https://localhost:8080/"
        },
        "id": "vJrHh9Y8Xlp0",
        "outputId": "2b43a05a-ad03-416c-dd41-43b936a26db2"
      },
      "source": [
        "cust_ids = cust_add.customer_id.value_counts().to_frame('Count')\n",
        "cust_ids[cust_ids.Count==1].count()"
      ],
      "execution_count": 167,
      "outputs": [
        {
          "output_type": "execute_result",
          "data": {
            "text/plain": [
              "Count    3999\n",
              "dtype: int64"
            ]
          },
          "metadata": {},
          "execution_count": 167
        }
      ]
    },
    {
      "cell_type": "code",
      "metadata": {
        "id": "t4tiFi6DQtvZ"
      },
      "source": [
        "drop_cols_CA = cust_add.loc[:,'Unnamed: 6':].columns.to_list()\n",
        "cust_add.drop(labels=drop_cols_CA,axis=1,inplace=True)"
      ],
      "execution_count": 168,
      "outputs": []
    },
    {
      "cell_type": "code",
      "metadata": {
        "colab": {
          "base_uri": "https://localhost:8080/"
        },
        "id": "GumqYZyiRBh3",
        "outputId": "0cb5db1c-dbfa-4e6b-9edc-bd8bfe5b160a"
      },
      "source": [
        "cust_add.info()"
      ],
      "execution_count": 169,
      "outputs": [
        {
          "output_type": "stream",
          "name": "stdout",
          "text": [
            "<class 'pandas.core.frame.DataFrame'>\n",
            "RangeIndex: 3999 entries, 0 to 3998\n",
            "Data columns (total 6 columns):\n",
            " #   Column              Non-Null Count  Dtype \n",
            "---  ------              --------------  ----- \n",
            " 0   customer_id         3999 non-null   int64 \n",
            " 1   address             3999 non-null   object\n",
            " 2   postcode            3999 non-null   int64 \n",
            " 3   state               3999 non-null   object\n",
            " 4   country             3999 non-null   object\n",
            " 5   property_valuation  3999 non-null   int64 \n",
            "dtypes: int64(3), object(3)\n",
            "memory usage: 187.6+ KB\n"
          ]
        }
      ]
    },
    {
      "cell_type": "code",
      "metadata": {
        "colab": {
          "base_uri": "https://localhost:8080/"
        },
        "id": "1elEY0Z-Y12_",
        "outputId": "6d70ed13-d2d1-479f-f102-63bb1ef7916f"
      },
      "source": [
        "len(cust_add.customer_id.unique())"
      ],
      "execution_count": 170,
      "outputs": [
        {
          "output_type": "execute_result",
          "data": {
            "text/plain": [
              "3999"
            ]
          },
          "metadata": {},
          "execution_count": 170
        }
      ]
    },
    {
      "cell_type": "code",
      "metadata": {
        "colab": {
          "base_uri": "https://localhost:8080/",
          "height": 300
        },
        "id": "71aim9gzRRiV",
        "outputId": "76c5c70b-db07-4504-bc16-87cea81a7a7e"
      },
      "source": [
        "cust_add.describe()"
      ],
      "execution_count": 171,
      "outputs": [
        {
          "output_type": "execute_result",
          "data": {
            "text/html": [
              "<div>\n",
              "<style scoped>\n",
              "    .dataframe tbody tr th:only-of-type {\n",
              "        vertical-align: middle;\n",
              "    }\n",
              "\n",
              "    .dataframe tbody tr th {\n",
              "        vertical-align: top;\n",
              "    }\n",
              "\n",
              "    .dataframe thead th {\n",
              "        text-align: right;\n",
              "    }\n",
              "</style>\n",
              "<table border=\"1\" class=\"dataframe\">\n",
              "  <thead>\n",
              "    <tr style=\"text-align: right;\">\n",
              "      <th></th>\n",
              "      <th>customer_id</th>\n",
              "      <th>postcode</th>\n",
              "      <th>property_valuation</th>\n",
              "    </tr>\n",
              "  </thead>\n",
              "  <tbody>\n",
              "    <tr>\n",
              "      <th>count</th>\n",
              "      <td>3999.000000</td>\n",
              "      <td>3999.000000</td>\n",
              "      <td>3999.000000</td>\n",
              "    </tr>\n",
              "    <tr>\n",
              "      <th>mean</th>\n",
              "      <td>2003.987997</td>\n",
              "      <td>2985.755939</td>\n",
              "      <td>7.514379</td>\n",
              "    </tr>\n",
              "    <tr>\n",
              "      <th>std</th>\n",
              "      <td>1154.576912</td>\n",
              "      <td>844.878364</td>\n",
              "      <td>2.824663</td>\n",
              "    </tr>\n",
              "    <tr>\n",
              "      <th>min</th>\n",
              "      <td>1.000000</td>\n",
              "      <td>2000.000000</td>\n",
              "      <td>1.000000</td>\n",
              "    </tr>\n",
              "    <tr>\n",
              "      <th>25%</th>\n",
              "      <td>1004.500000</td>\n",
              "      <td>2200.000000</td>\n",
              "      <td>6.000000</td>\n",
              "    </tr>\n",
              "    <tr>\n",
              "      <th>50%</th>\n",
              "      <td>2004.000000</td>\n",
              "      <td>2768.000000</td>\n",
              "      <td>8.000000</td>\n",
              "    </tr>\n",
              "    <tr>\n",
              "      <th>75%</th>\n",
              "      <td>3003.500000</td>\n",
              "      <td>3750.000000</td>\n",
              "      <td>10.000000</td>\n",
              "    </tr>\n",
              "    <tr>\n",
              "      <th>max</th>\n",
              "      <td>4003.000000</td>\n",
              "      <td>4883.000000</td>\n",
              "      <td>12.000000</td>\n",
              "    </tr>\n",
              "  </tbody>\n",
              "</table>\n",
              "</div>"
            ],
            "text/plain": [
              "       customer_id     postcode  property_valuation\n",
              "count  3999.000000  3999.000000         3999.000000\n",
              "mean   2003.987997  2985.755939            7.514379\n",
              "std    1154.576912   844.878364            2.824663\n",
              "min       1.000000  2000.000000            1.000000\n",
              "25%    1004.500000  2200.000000            6.000000\n",
              "50%    2004.000000  2768.000000            8.000000\n",
              "75%    3003.500000  3750.000000           10.000000\n",
              "max    4003.000000  4883.000000           12.000000"
            ]
          },
          "metadata": {},
          "execution_count": 171
        }
      ]
    },
    {
      "cell_type": "code",
      "metadata": {
        "colab": {
          "base_uri": "https://localhost:8080/"
        },
        "id": "Uipk48ylRwK8",
        "outputId": "5194e93a-3b27-4780-bd3a-8e2f926e489c"
      },
      "source": [
        "cust_add.isna().sum()"
      ],
      "execution_count": 172,
      "outputs": [
        {
          "output_type": "execute_result",
          "data": {
            "text/plain": [
              "customer_id           0\n",
              "address               0\n",
              "postcode              0\n",
              "state                 0\n",
              "country               0\n",
              "property_valuation    0\n",
              "dtype: int64"
            ]
          },
          "metadata": {},
          "execution_count": 172
        }
      ]
    },
    {
      "cell_type": "code",
      "metadata": {
        "colab": {
          "base_uri": "https://localhost:8080/",
          "height": 143
        },
        "id": "qxsMNZwOjsBd",
        "outputId": "a2420eca-54c4-4749-f2ab-e0b33568e32e"
      },
      "source": [
        "cust_add.head(3)"
      ],
      "execution_count": 173,
      "outputs": [
        {
          "output_type": "execute_result",
          "data": {
            "text/html": [
              "<div>\n",
              "<style scoped>\n",
              "    .dataframe tbody tr th:only-of-type {\n",
              "        vertical-align: middle;\n",
              "    }\n",
              "\n",
              "    .dataframe tbody tr th {\n",
              "        vertical-align: top;\n",
              "    }\n",
              "\n",
              "    .dataframe thead th {\n",
              "        text-align: right;\n",
              "    }\n",
              "</style>\n",
              "<table border=\"1\" class=\"dataframe\">\n",
              "  <thead>\n",
              "    <tr style=\"text-align: right;\">\n",
              "      <th></th>\n",
              "      <th>customer_id</th>\n",
              "      <th>address</th>\n",
              "      <th>postcode</th>\n",
              "      <th>state</th>\n",
              "      <th>country</th>\n",
              "      <th>property_valuation</th>\n",
              "    </tr>\n",
              "  </thead>\n",
              "  <tbody>\n",
              "    <tr>\n",
              "      <th>0</th>\n",
              "      <td>1</td>\n",
              "      <td>060 Morning Avenue</td>\n",
              "      <td>2016</td>\n",
              "      <td>New South Wales</td>\n",
              "      <td>Australia</td>\n",
              "      <td>10</td>\n",
              "    </tr>\n",
              "    <tr>\n",
              "      <th>1</th>\n",
              "      <td>2</td>\n",
              "      <td>6 Meadow Vale Court</td>\n",
              "      <td>2153</td>\n",
              "      <td>New South Wales</td>\n",
              "      <td>Australia</td>\n",
              "      <td>10</td>\n",
              "    </tr>\n",
              "    <tr>\n",
              "      <th>2</th>\n",
              "      <td>4</td>\n",
              "      <td>0 Holy Cross Court</td>\n",
              "      <td>4211</td>\n",
              "      <td>QLD</td>\n",
              "      <td>Australia</td>\n",
              "      <td>9</td>\n",
              "    </tr>\n",
              "  </tbody>\n",
              "</table>\n",
              "</div>"
            ],
            "text/plain": [
              "   customer_id              address  ...    country property_valuation\n",
              "0            1   060 Morning Avenue  ...  Australia                 10\n",
              "1            2  6 Meadow Vale Court  ...  Australia                 10\n",
              "2            4   0 Holy Cross Court  ...  Australia                  9\n",
              "\n",
              "[3 rows x 6 columns]"
            ]
          },
          "metadata": {},
          "execution_count": 173
        }
      ]
    },
    {
      "cell_type": "code",
      "metadata": {
        "colab": {
          "base_uri": "https://localhost:8080/"
        },
        "id": "8sM8urYZjxMD",
        "outputId": "94ad33e2-95a2-4413-dad2-28694af60827"
      },
      "source": [
        "cust_add.state.value_counts()"
      ],
      "execution_count": 174,
      "outputs": [
        {
          "output_type": "execute_result",
          "data": {
            "text/plain": [
              "NSW                2054\n",
              "VIC                 939\n",
              "QLD                 838\n",
              "New South Wales      86\n",
              "Victoria             82\n",
              "Name: state, dtype: int64"
            ]
          },
          "metadata": {},
          "execution_count": 174
        }
      ]
    },
    {
      "cell_type": "code",
      "metadata": {
        "id": "0vuZKbmNj2b0"
      },
      "source": [
        "cust_add.drop(labels=['address','country'],axis=1,inplace=True)"
      ],
      "execution_count": 175,
      "outputs": []
    },
    {
      "cell_type": "code",
      "metadata": {
        "colab": {
          "base_uri": "https://localhost:8080/",
          "height": 143
        },
        "id": "YCOmpy8AkQfL",
        "outputId": "7cae0d68-ce44-4d42-a919-b80062899542"
      },
      "source": [
        "cust_add.head(3)"
      ],
      "execution_count": 176,
      "outputs": [
        {
          "output_type": "execute_result",
          "data": {
            "text/html": [
              "<div>\n",
              "<style scoped>\n",
              "    .dataframe tbody tr th:only-of-type {\n",
              "        vertical-align: middle;\n",
              "    }\n",
              "\n",
              "    .dataframe tbody tr th {\n",
              "        vertical-align: top;\n",
              "    }\n",
              "\n",
              "    .dataframe thead th {\n",
              "        text-align: right;\n",
              "    }\n",
              "</style>\n",
              "<table border=\"1\" class=\"dataframe\">\n",
              "  <thead>\n",
              "    <tr style=\"text-align: right;\">\n",
              "      <th></th>\n",
              "      <th>customer_id</th>\n",
              "      <th>postcode</th>\n",
              "      <th>state</th>\n",
              "      <th>property_valuation</th>\n",
              "    </tr>\n",
              "  </thead>\n",
              "  <tbody>\n",
              "    <tr>\n",
              "      <th>0</th>\n",
              "      <td>1</td>\n",
              "      <td>2016</td>\n",
              "      <td>New South Wales</td>\n",
              "      <td>10</td>\n",
              "    </tr>\n",
              "    <tr>\n",
              "      <th>1</th>\n",
              "      <td>2</td>\n",
              "      <td>2153</td>\n",
              "      <td>New South Wales</td>\n",
              "      <td>10</td>\n",
              "    </tr>\n",
              "    <tr>\n",
              "      <th>2</th>\n",
              "      <td>4</td>\n",
              "      <td>4211</td>\n",
              "      <td>QLD</td>\n",
              "      <td>9</td>\n",
              "    </tr>\n",
              "  </tbody>\n",
              "</table>\n",
              "</div>"
            ],
            "text/plain": [
              "   customer_id  postcode            state  property_valuation\n",
              "0            1      2016  New South Wales                  10\n",
              "1            2      2153  New South Wales                  10\n",
              "2            4      4211              QLD                   9"
            ]
          },
          "metadata": {},
          "execution_count": 176
        }
      ]
    },
    {
      "cell_type": "markdown",
      "metadata": {
        "id": "DRk_dbOoR1VL"
      },
      "source": [
        "## 3.Customer Demographics"
      ]
    },
    {
      "cell_type": "code",
      "metadata": {
        "colab": {
          "base_uri": "https://localhost:8080/",
          "height": 262
        },
        "id": "F3_TPZ-ZR4wX",
        "outputId": "24a53a5e-ff7e-419b-be2f-209c84a78181"
      },
      "source": [
        "cust_demo.head(3)"
      ],
      "execution_count": 177,
      "outputs": [
        {
          "output_type": "execute_result",
          "data": {
            "text/html": [
              "<div>\n",
              "<style scoped>\n",
              "    .dataframe tbody tr th:only-of-type {\n",
              "        vertical-align: middle;\n",
              "    }\n",
              "\n",
              "    .dataframe tbody tr th {\n",
              "        vertical-align: top;\n",
              "    }\n",
              "\n",
              "    .dataframe thead th {\n",
              "        text-align: right;\n",
              "    }\n",
              "</style>\n",
              "<table border=\"1\" class=\"dataframe\">\n",
              "  <thead>\n",
              "    <tr style=\"text-align: right;\">\n",
              "      <th></th>\n",
              "      <th>customer_id</th>\n",
              "      <th>first_name</th>\n",
              "      <th>last_name</th>\n",
              "      <th>gender</th>\n",
              "      <th>past_3_years_bike_related_purchases</th>\n",
              "      <th>DOB</th>\n",
              "      <th>job_title</th>\n",
              "      <th>job_industry_category</th>\n",
              "      <th>wealth_segment</th>\n",
              "      <th>deceased_indicator</th>\n",
              "      <th>default</th>\n",
              "      <th>owns_car</th>\n",
              "      <th>tenure</th>\n",
              "      <th>Unnamed: 13</th>\n",
              "      <th>Unnamed: 14</th>\n",
              "      <th>Unnamed: 15</th>\n",
              "      <th>Unnamed: 16</th>\n",
              "      <th>Unnamed: 17</th>\n",
              "      <th>Unnamed: 18</th>\n",
              "      <th>Unnamed: 19</th>\n",
              "      <th>Unnamed: 20</th>\n",
              "      <th>Unnamed: 21</th>\n",
              "      <th>Unnamed: 22</th>\n",
              "      <th>Unnamed: 23</th>\n",
              "      <th>Unnamed: 24</th>\n",
              "      <th>Unnamed: 25</th>\n",
              "      <th>Unnamed: 26</th>\n",
              "      <th>Unnamed: 27</th>\n",
              "      <th>Unnamed: 28</th>\n",
              "      <th>Unnamed: 29</th>\n",
              "      <th>Unnamed: 30</th>\n",
              "      <th>Unnamed: 31</th>\n",
              "      <th>Unnamed: 32</th>\n",
              "      <th>Unnamed: 33</th>\n",
              "      <th>Unnamed: 34</th>\n",
              "      <th>Unnamed: 35</th>\n",
              "      <th>Unnamed: 36</th>\n",
              "      <th>Unnamed: 37</th>\n",
              "      <th>Unnamed: 38</th>\n",
              "      <th>Unnamed: 39</th>\n",
              "      <th>...</th>\n",
              "      <th>Unnamed: 216</th>\n",
              "      <th>Unnamed: 217</th>\n",
              "      <th>Unnamed: 218</th>\n",
              "      <th>Unnamed: 219</th>\n",
              "      <th>Unnamed: 220</th>\n",
              "      <th>Unnamed: 221</th>\n",
              "      <th>Unnamed: 222</th>\n",
              "      <th>Unnamed: 223</th>\n",
              "      <th>Unnamed: 224</th>\n",
              "      <th>Unnamed: 225</th>\n",
              "      <th>Unnamed: 226</th>\n",
              "      <th>Unnamed: 227</th>\n",
              "      <th>Unnamed: 228</th>\n",
              "      <th>Unnamed: 229</th>\n",
              "      <th>Unnamed: 230</th>\n",
              "      <th>Unnamed: 231</th>\n",
              "      <th>Unnamed: 232</th>\n",
              "      <th>Unnamed: 233</th>\n",
              "      <th>Unnamed: 234</th>\n",
              "      <th>Unnamed: 235</th>\n",
              "      <th>Unnamed: 236</th>\n",
              "      <th>Unnamed: 237</th>\n",
              "      <th>Unnamed: 238</th>\n",
              "      <th>Unnamed: 239</th>\n",
              "      <th>Unnamed: 240</th>\n",
              "      <th>Unnamed: 241</th>\n",
              "      <th>Unnamed: 242</th>\n",
              "      <th>Unnamed: 243</th>\n",
              "      <th>Unnamed: 244</th>\n",
              "      <th>Unnamed: 245</th>\n",
              "      <th>Unnamed: 246</th>\n",
              "      <th>Unnamed: 247</th>\n",
              "      <th>Unnamed: 248</th>\n",
              "      <th>Unnamed: 249</th>\n",
              "      <th>Unnamed: 250</th>\n",
              "      <th>Unnamed: 251</th>\n",
              "      <th>Unnamed: 252</th>\n",
              "      <th>Unnamed: 253</th>\n",
              "      <th>Unnamed: 254</th>\n",
              "      <th>Unnamed: 255</th>\n",
              "    </tr>\n",
              "  </thead>\n",
              "  <tbody>\n",
              "    <tr>\n",
              "      <th>0</th>\n",
              "      <td>1</td>\n",
              "      <td>Laraine</td>\n",
              "      <td>Medendorp</td>\n",
              "      <td>F</td>\n",
              "      <td>93</td>\n",
              "      <td>1953-10-12</td>\n",
              "      <td>Executive Secretary</td>\n",
              "      <td>Health</td>\n",
              "      <td>Mass Customer</td>\n",
              "      <td>N</td>\n",
              "      <td>\"'</td>\n",
              "      <td>Yes</td>\n",
              "      <td>11.0</td>\n",
              "      <td>NaN</td>\n",
              "      <td>NaN</td>\n",
              "      <td>NaN</td>\n",
              "      <td>NaN</td>\n",
              "      <td>NaN</td>\n",
              "      <td>NaN</td>\n",
              "      <td>NaN</td>\n",
              "      <td>NaN</td>\n",
              "      <td>NaN</td>\n",
              "      <td>NaN</td>\n",
              "      <td>NaN</td>\n",
              "      <td>NaN</td>\n",
              "      <td>NaN</td>\n",
              "      <td>NaN</td>\n",
              "      <td>NaN</td>\n",
              "      <td>NaN</td>\n",
              "      <td>NaN</td>\n",
              "      <td>NaN</td>\n",
              "      <td>NaN</td>\n",
              "      <td>NaN</td>\n",
              "      <td>NaN</td>\n",
              "      <td>NaN</td>\n",
              "      <td>NaN</td>\n",
              "      <td>NaN</td>\n",
              "      <td>NaN</td>\n",
              "      <td>NaN</td>\n",
              "      <td>NaN</td>\n",
              "      <td>...</td>\n",
              "      <td>NaN</td>\n",
              "      <td>NaN</td>\n",
              "      <td>NaN</td>\n",
              "      <td>NaN</td>\n",
              "      <td>NaN</td>\n",
              "      <td>NaN</td>\n",
              "      <td>NaN</td>\n",
              "      <td>NaN</td>\n",
              "      <td>NaN</td>\n",
              "      <td>NaN</td>\n",
              "      <td>NaN</td>\n",
              "      <td>NaN</td>\n",
              "      <td>NaN</td>\n",
              "      <td>NaN</td>\n",
              "      <td>NaN</td>\n",
              "      <td>NaN</td>\n",
              "      <td>NaN</td>\n",
              "      <td>NaN</td>\n",
              "      <td>NaN</td>\n",
              "      <td>NaN</td>\n",
              "      <td>NaN</td>\n",
              "      <td>NaN</td>\n",
              "      <td>NaN</td>\n",
              "      <td>NaN</td>\n",
              "      <td>NaN</td>\n",
              "      <td>NaN</td>\n",
              "      <td>NaN</td>\n",
              "      <td>NaN</td>\n",
              "      <td>NaN</td>\n",
              "      <td>NaN</td>\n",
              "      <td>NaN</td>\n",
              "      <td>NaN</td>\n",
              "      <td>NaN</td>\n",
              "      <td>NaN</td>\n",
              "      <td>NaN</td>\n",
              "      <td>NaN</td>\n",
              "      <td>NaN</td>\n",
              "      <td>NaN</td>\n",
              "      <td>NaN</td>\n",
              "      <td>NaN</td>\n",
              "    </tr>\n",
              "    <tr>\n",
              "      <th>1</th>\n",
              "      <td>2</td>\n",
              "      <td>Eli</td>\n",
              "      <td>Bockman</td>\n",
              "      <td>Male</td>\n",
              "      <td>81</td>\n",
              "      <td>1980-12-16</td>\n",
              "      <td>Administrative Officer</td>\n",
              "      <td>Financial Services</td>\n",
              "      <td>Mass Customer</td>\n",
              "      <td>N</td>\n",
              "      <td>&lt;script&gt;alert('hi')&lt;/script&gt;</td>\n",
              "      <td>Yes</td>\n",
              "      <td>16.0</td>\n",
              "      <td>NaN</td>\n",
              "      <td>NaN</td>\n",
              "      <td>NaN</td>\n",
              "      <td>NaN</td>\n",
              "      <td>NaN</td>\n",
              "      <td>NaN</td>\n",
              "      <td>NaN</td>\n",
              "      <td>NaN</td>\n",
              "      <td>NaN</td>\n",
              "      <td>NaN</td>\n",
              "      <td>NaN</td>\n",
              "      <td>NaN</td>\n",
              "      <td>NaN</td>\n",
              "      <td>NaN</td>\n",
              "      <td>NaN</td>\n",
              "      <td>NaN</td>\n",
              "      <td>NaN</td>\n",
              "      <td>NaN</td>\n",
              "      <td>NaN</td>\n",
              "      <td>NaN</td>\n",
              "      <td>NaN</td>\n",
              "      <td>NaN</td>\n",
              "      <td>NaN</td>\n",
              "      <td>NaN</td>\n",
              "      <td>NaN</td>\n",
              "      <td>NaN</td>\n",
              "      <td>NaN</td>\n",
              "      <td>...</td>\n",
              "      <td>NaN</td>\n",
              "      <td>NaN</td>\n",
              "      <td>NaN</td>\n",
              "      <td>NaN</td>\n",
              "      <td>NaN</td>\n",
              "      <td>NaN</td>\n",
              "      <td>NaN</td>\n",
              "      <td>NaN</td>\n",
              "      <td>NaN</td>\n",
              "      <td>NaN</td>\n",
              "      <td>NaN</td>\n",
              "      <td>NaN</td>\n",
              "      <td>NaN</td>\n",
              "      <td>NaN</td>\n",
              "      <td>NaN</td>\n",
              "      <td>NaN</td>\n",
              "      <td>NaN</td>\n",
              "      <td>NaN</td>\n",
              "      <td>NaN</td>\n",
              "      <td>NaN</td>\n",
              "      <td>NaN</td>\n",
              "      <td>NaN</td>\n",
              "      <td>NaN</td>\n",
              "      <td>NaN</td>\n",
              "      <td>NaN</td>\n",
              "      <td>NaN</td>\n",
              "      <td>NaN</td>\n",
              "      <td>NaN</td>\n",
              "      <td>NaN</td>\n",
              "      <td>NaN</td>\n",
              "      <td>NaN</td>\n",
              "      <td>NaN</td>\n",
              "      <td>NaN</td>\n",
              "      <td>NaN</td>\n",
              "      <td>NaN</td>\n",
              "      <td>NaN</td>\n",
              "      <td>NaN</td>\n",
              "      <td>NaN</td>\n",
              "      <td>NaN</td>\n",
              "      <td>NaN</td>\n",
              "    </tr>\n",
              "    <tr>\n",
              "      <th>2</th>\n",
              "      <td>3</td>\n",
              "      <td>Arlin</td>\n",
              "      <td>Dearle</td>\n",
              "      <td>Male</td>\n",
              "      <td>61</td>\n",
              "      <td>1954-01-20</td>\n",
              "      <td>Recruiting Manager</td>\n",
              "      <td>Property</td>\n",
              "      <td>Mass Customer</td>\n",
              "      <td>N</td>\n",
              "      <td>01-Feb</td>\n",
              "      <td>Yes</td>\n",
              "      <td>15.0</td>\n",
              "      <td>NaN</td>\n",
              "      <td>NaN</td>\n",
              "      <td>NaN</td>\n",
              "      <td>NaN</td>\n",
              "      <td>NaN</td>\n",
              "      <td>NaN</td>\n",
              "      <td>NaN</td>\n",
              "      <td>NaN</td>\n",
              "      <td>NaN</td>\n",
              "      <td>NaN</td>\n",
              "      <td>NaN</td>\n",
              "      <td>NaN</td>\n",
              "      <td>NaN</td>\n",
              "      <td>NaN</td>\n",
              "      <td>NaN</td>\n",
              "      <td>NaN</td>\n",
              "      <td>NaN</td>\n",
              "      <td>NaN</td>\n",
              "      <td>NaN</td>\n",
              "      <td>NaN</td>\n",
              "      <td>NaN</td>\n",
              "      <td>NaN</td>\n",
              "      <td>NaN</td>\n",
              "      <td>NaN</td>\n",
              "      <td>NaN</td>\n",
              "      <td>NaN</td>\n",
              "      <td>NaN</td>\n",
              "      <td>...</td>\n",
              "      <td>NaN</td>\n",
              "      <td>NaN</td>\n",
              "      <td>NaN</td>\n",
              "      <td>NaN</td>\n",
              "      <td>NaN</td>\n",
              "      <td>NaN</td>\n",
              "      <td>NaN</td>\n",
              "      <td>NaN</td>\n",
              "      <td>NaN</td>\n",
              "      <td>NaN</td>\n",
              "      <td>NaN</td>\n",
              "      <td>NaN</td>\n",
              "      <td>NaN</td>\n",
              "      <td>NaN</td>\n",
              "      <td>NaN</td>\n",
              "      <td>NaN</td>\n",
              "      <td>NaN</td>\n",
              "      <td>NaN</td>\n",
              "      <td>NaN</td>\n",
              "      <td>NaN</td>\n",
              "      <td>NaN</td>\n",
              "      <td>NaN</td>\n",
              "      <td>NaN</td>\n",
              "      <td>NaN</td>\n",
              "      <td>NaN</td>\n",
              "      <td>NaN</td>\n",
              "      <td>NaN</td>\n",
              "      <td>NaN</td>\n",
              "      <td>NaN</td>\n",
              "      <td>NaN</td>\n",
              "      <td>NaN</td>\n",
              "      <td>NaN</td>\n",
              "      <td>NaN</td>\n",
              "      <td>NaN</td>\n",
              "      <td>NaN</td>\n",
              "      <td>NaN</td>\n",
              "      <td>NaN</td>\n",
              "      <td>NaN</td>\n",
              "      <td>NaN</td>\n",
              "      <td>NaN</td>\n",
              "    </tr>\n",
              "  </tbody>\n",
              "</table>\n",
              "<p>3 rows × 256 columns</p>\n",
              "</div>"
            ],
            "text/plain": [
              "   customer_id first_name  last_name  ... Unnamed: 253  Unnamed: 254 Unnamed: 255\n",
              "0            1    Laraine  Medendorp  ...          NaN           NaN          NaN\n",
              "1            2        Eli    Bockman  ...          NaN           NaN          NaN\n",
              "2            3      Arlin     Dearle  ...          NaN           NaN          NaN\n",
              "\n",
              "[3 rows x 256 columns]"
            ]
          },
          "metadata": {},
          "execution_count": 177
        }
      ]
    },
    {
      "cell_type": "code",
      "metadata": {
        "id": "cHQsMnVoSKT0"
      },
      "source": [
        "drop_cols_CD = cust_demo.loc[:,'Unnamed: 13':].columns.to_list()\n",
        "cust_demo.drop(labels=drop_cols_CD,axis=1,inplace=True)"
      ],
      "execution_count": 178,
      "outputs": []
    },
    {
      "cell_type": "code",
      "metadata": {
        "colab": {
          "base_uri": "https://localhost:8080/"
        },
        "id": "pkS2mo4gSYuJ",
        "outputId": "47754b57-7e6e-45ef-c2fd-ffc79ad9124b"
      },
      "source": [
        "cust_demo.info()"
      ],
      "execution_count": 179,
      "outputs": [
        {
          "output_type": "stream",
          "name": "stdout",
          "text": [
            "<class 'pandas.core.frame.DataFrame'>\n",
            "RangeIndex: 4000 entries, 0 to 3999\n",
            "Data columns (total 13 columns):\n",
            " #   Column                               Non-Null Count  Dtype  \n",
            "---  ------                               --------------  -----  \n",
            " 0   customer_id                          4000 non-null   int64  \n",
            " 1   first_name                           4000 non-null   object \n",
            " 2   last_name                            3875 non-null   object \n",
            " 3   gender                               4000 non-null   object \n",
            " 4   past_3_years_bike_related_purchases  4000 non-null   int64  \n",
            " 5   DOB                                  3913 non-null   object \n",
            " 6   job_title                            3494 non-null   object \n",
            " 7   job_industry_category                3344 non-null   object \n",
            " 8   wealth_segment                       4000 non-null   object \n",
            " 9   deceased_indicator                   4000 non-null   object \n",
            " 10  default                              3698 non-null   object \n",
            " 11  owns_car                             4000 non-null   object \n",
            " 12  tenure                               3913 non-null   float64\n",
            "dtypes: float64(1), int64(2), object(10)\n",
            "memory usage: 406.4+ KB\n"
          ]
        }
      ]
    },
    {
      "cell_type": "code",
      "metadata": {
        "colab": {
          "base_uri": "https://localhost:8080/"
        },
        "id": "nKL1UeCsYeFf",
        "outputId": "182e4750-5f85-472c-bd5e-49ccdc72d92b"
      },
      "source": [
        "len(cust_demo.customer_id.unique())"
      ],
      "execution_count": 180,
      "outputs": [
        {
          "output_type": "execute_result",
          "data": {
            "text/plain": [
              "4000"
            ]
          },
          "metadata": {},
          "execution_count": 180
        }
      ]
    },
    {
      "cell_type": "code",
      "metadata": {
        "colab": {
          "base_uri": "https://localhost:8080/"
        },
        "id": "zSGN9c7YSpvA",
        "outputId": "80928a26-e0f2-4ddf-c2a8-fbfdf9bef1a3"
      },
      "source": [
        "obj_cols_CD = cust_demo.select_dtypes(np.object).columns.to_list()\n",
        "for col in obj_cols_CD:\n",
        "  print('Column Name: ',col,'\\n')\n",
        "  print('---------------------------------------')\n",
        "  print(cust_demo[col].value_counts())\n",
        "  print('---------------------------------------')"
      ],
      "execution_count": 181,
      "outputs": [
        {
          "output_type": "stream",
          "name": "stdout",
          "text": [
            "Column Name:  first_name \n",
            "\n",
            "---------------------------------------\n",
            "Timmie       5\n",
            "Max          5\n",
            "Tobe         5\n",
            "Kim          4\n",
            "Hubie        4\n",
            "            ..\n",
            "Kimberly     1\n",
            "Terrance     1\n",
            "Stern        1\n",
            "Albertine    1\n",
            "Vanni        1\n",
            "Name: first_name, Length: 3139, dtype: int64\n",
            "---------------------------------------\n",
            "Column Name:  last_name \n",
            "\n",
            "---------------------------------------\n",
            "Ramsdell       3\n",
            "Pristnor       3\n",
            "Bamlett        2\n",
            "Matts          2\n",
            "Dyde           2\n",
            "              ..\n",
            "Janiszewski    1\n",
            "Corrado        1\n",
            "Albone         1\n",
            "Maynard        1\n",
            "Bartrum        1\n",
            "Name: last_name, Length: 3725, dtype: int64\n",
            "---------------------------------------\n",
            "Column Name:  gender \n",
            "\n",
            "---------------------------------------\n",
            "Female    2037\n",
            "Male      1872\n",
            "U           88\n",
            "M            1\n",
            "F            1\n",
            "Femal        1\n",
            "Name: gender, dtype: int64\n",
            "---------------------------------------\n",
            "Column Name:  DOB \n",
            "\n",
            "---------------------------------------\n",
            "1978-01-30    7\n",
            "1978-08-19    4\n",
            "1964-07-08    4\n",
            "1962-12-17    4\n",
            "1976-09-25    4\n",
            "             ..\n",
            "1992-12-04    1\n",
            "1959-01-03    1\n",
            "1997-05-07    1\n",
            "1966-06-11    1\n",
            "1957-01-17    1\n",
            "Name: DOB, Length: 3448, dtype: int64\n",
            "---------------------------------------\n",
            "Column Name:  job_title \n",
            "\n",
            "---------------------------------------\n",
            "Business Systems Development Analyst    45\n",
            "Social Worker                           44\n",
            "Tax Accountant                          44\n",
            "Internal Auditor                        42\n",
            "Legal Assistant                         41\n",
            "                                        ..\n",
            "Staff Accountant I                       4\n",
            "Research Assistant III                   3\n",
            "Health Coach I                           3\n",
            "Health Coach III                         3\n",
            "Developer I                              1\n",
            "Name: job_title, Length: 195, dtype: int64\n",
            "---------------------------------------\n",
            "Column Name:  job_industry_category \n",
            "\n",
            "---------------------------------------\n",
            "Manufacturing         799\n",
            "Financial Services    774\n",
            "Health                602\n",
            "Retail                358\n",
            "Property              267\n",
            "IT                    223\n",
            "Entertainment         136\n",
            "Argiculture           113\n",
            "Telecommunications     72\n",
            "Name: job_industry_category, dtype: int64\n",
            "---------------------------------------\n",
            "Column Name:  wealth_segment \n",
            "\n",
            "---------------------------------------\n",
            "Mass Customer        2000\n",
            "High Net Worth       1021\n",
            "Affluent Customer     979\n",
            "Name: wealth_segment, dtype: int64\n",
            "---------------------------------------\n",
            "Column Name:  deceased_indicator \n",
            "\n",
            "---------------------------------------\n",
            "N    3998\n",
            "Y       2\n",
            "Name: deceased_indicator, dtype: int64\n",
            "---------------------------------------\n",
            "Column Name:  default \n",
            "\n",
            "---------------------------------------\n",
            "1.00E+02                                                                                                                                 111\n",
            "-1.00E+02                                                                                                                                 96\n",
            "1                                                                                                                                         70\n",
            "-1                                                                                                                                        64\n",
            "â°â´âµâââ                                                                                                                                 53\n",
            "                                                                                                                                        ... \n",
            "0.00E+00                                                                                                                                   2\n",
            "$1,000,000,000,000,000,000,000,000,000,000,000,000,000,000,000,000,000,000,000,000,000,000,000,000,000,000,000,000,000,000,000,000.00      2\n",
            "$100.00                                                                                                                                    2\n",
            "$0.00                                                                                                                                      1\n",
            "-$0.50                                                                                                                                     1\n",
            "Name: default, Length: 101, dtype: int64\n",
            "---------------------------------------\n",
            "Column Name:  owns_car \n",
            "\n",
            "---------------------------------------\n",
            "Yes    2024\n",
            "No     1976\n",
            "Name: owns_car, dtype: int64\n",
            "---------------------------------------\n"
          ]
        }
      ]
    },
    {
      "cell_type": "markdown",
      "metadata": {
        "id": "p8EwvfPRTBLo"
      },
      "source": [
        "- Gender column has inconsistent values\n",
        "- default column has invalid data\n",
        "- DOB should be a datetime column / timestamp"
      ]
    },
    {
      "cell_type": "code",
      "metadata": {
        "colab": {
          "base_uri": "https://localhost:8080/"
        },
        "id": "_nUp-2u2S_0u",
        "outputId": "7e55b39f-9f4d-4427-c1af-eae5071538f1"
      },
      "source": [
        "null_cols_CD = cust_demo.isnull().sum().to_frame('Count')\n",
        "null_cols_CD[null_cols_CD.Count>0].shape[0]"
      ],
      "execution_count": 182,
      "outputs": [
        {
          "output_type": "execute_result",
          "data": {
            "text/plain": [
              "6"
            ]
          },
          "metadata": {},
          "execution_count": 182
        }
      ]
    },
    {
      "cell_type": "markdown",
      "metadata": {
        "id": "dng2I1jrVsOP"
      },
      "source": [
        "There are 6 columns in the customer demographics datasets"
      ]
    },
    {
      "cell_type": "code",
      "metadata": {
        "id": "7cXVGqzWX9jU"
      },
      "source": [
        "cust_ids_CD = cust_demo.customer_id.value_counts().to_frame('Count')\n"
      ],
      "execution_count": 200,
      "outputs": []
    },
    {
      "cell_type": "code",
      "metadata": {
        "colab": {
          "base_uri": "https://localhost:8080/"
        },
        "id": "h5dRPpvOF850",
        "outputId": "9847e9cd-f4f7-417f-a827-4c7dc5c9632f"
      },
      "source": [
        "cust_demo.isna().sum()"
      ],
      "execution_count": 184,
      "outputs": [
        {
          "output_type": "execute_result",
          "data": {
            "text/plain": [
              "customer_id                              0\n",
              "first_name                               0\n",
              "last_name                              125\n",
              "gender                                   0\n",
              "past_3_years_bike_related_purchases      0\n",
              "DOB                                     87\n",
              "job_title                              506\n",
              "job_industry_category                  656\n",
              "wealth_segment                           0\n",
              "deceased_indicator                       0\n",
              "default                                302\n",
              "owns_car                                 0\n",
              "tenure                                  87\n",
              "dtype: int64"
            ]
          },
          "metadata": {},
          "execution_count": 184
        }
      ]
    },
    {
      "cell_type": "code",
      "metadata": {
        "colab": {
          "base_uri": "https://localhost:8080/"
        },
        "id": "ovPLOsH0GOa8",
        "outputId": "d51dbd15-8435-41d6-b456-4abb7080eda5"
      },
      "source": [
        "cust_demo.shape"
      ],
      "execution_count": 185,
      "outputs": [
        {
          "output_type": "execute_result",
          "data": {
            "text/plain": [
              "(4000, 13)"
            ]
          },
          "metadata": {},
          "execution_count": 185
        }
      ]
    },
    {
      "cell_type": "code",
      "metadata": {
        "id": "i8gOtn6xGuwu"
      },
      "source": [
        "cust_demo.drop(labels=['first_name','last_name','default'],axis=1,inplace=True)"
      ],
      "execution_count": 186,
      "outputs": []
    },
    {
      "cell_type": "code",
      "metadata": {
        "id": "Ui6GevOzHBMG"
      },
      "source": [
        "cust_demo['tenure'].fillna(value='mean',inplace=True)"
      ],
      "execution_count": 187,
      "outputs": []
    },
    {
      "cell_type": "code",
      "metadata": {
        "colab": {
          "base_uri": "https://localhost:8080/"
        },
        "id": "oFdT-rQPIA8O",
        "outputId": "1d01777d-1fbf-4699-e2a0-eed6f866f1e2"
      },
      "source": [
        "cust_demo['DOB'].value_counts()"
      ],
      "execution_count": 188,
      "outputs": [
        {
          "output_type": "execute_result",
          "data": {
            "text/plain": [
              "1978-01-30    7\n",
              "1978-08-19    4\n",
              "1964-07-08    4\n",
              "1962-12-17    4\n",
              "1976-09-25    4\n",
              "             ..\n",
              "1992-12-04    1\n",
              "1959-01-03    1\n",
              "1997-05-07    1\n",
              "1966-06-11    1\n",
              "1957-01-17    1\n",
              "Name: DOB, Length: 3448, dtype: int64"
            ]
          },
          "metadata": {},
          "execution_count": 188
        }
      ]
    },
    {
      "cell_type": "code",
      "metadata": {
        "id": "VOZF9SWHIgrI"
      },
      "source": [
        "cust_demo.dropna(axis=0,inplace=True)\n",
        "cust_demo.DOB = pd.to_datetime(cust_demo['DOB'])\n",
        "cust_demo['DOB_year'] = cust_demo['DOB'].dt.year\n",
        "cust_demo['DOB_month'] = cust_demo['DOB'].dt.month\n",
        "cust_demo['DOB_date'] = cust_demo['DOB'].dt.day\n",
        "# Let's fix data issues in Gender column\n",
        "cust_demo['gender'] = cust_demo['gender'].map({'Male':'M','Female':'F','Femal':'F','F':'F','U':'U'})\n",
        "# Let's calculate Age upto date\n",
        "cust_demo['Age'] = 2021 - cust_demo['DOB_year']\n",
        "# Let's remove invalid date\n",
        "cust_demo = cust_demo[(cust_demo[\"deceased_indicator\"] != 'Y') & (cust_demo[\"Age\"] != 178)]"
      ],
      "execution_count": 189,
      "outputs": []
    },
    {
      "cell_type": "code",
      "metadata": {
        "colab": {
          "base_uri": "https://localhost:8080/",
          "height": 347
        },
        "id": "bnT5UbZ5gXI9",
        "outputId": "6f977467-6ca3-47ab-d024-3af587a0822b"
      },
      "source": [
        "cust_demo.head()"
      ],
      "execution_count": 190,
      "outputs": [
        {
          "output_type": "execute_result",
          "data": {
            "text/html": [
              "<div>\n",
              "<style scoped>\n",
              "    .dataframe tbody tr th:only-of-type {\n",
              "        vertical-align: middle;\n",
              "    }\n",
              "\n",
              "    .dataframe tbody tr th {\n",
              "        vertical-align: top;\n",
              "    }\n",
              "\n",
              "    .dataframe thead th {\n",
              "        text-align: right;\n",
              "    }\n",
              "</style>\n",
              "<table border=\"1\" class=\"dataframe\">\n",
              "  <thead>\n",
              "    <tr style=\"text-align: right;\">\n",
              "      <th></th>\n",
              "      <th>customer_id</th>\n",
              "      <th>gender</th>\n",
              "      <th>past_3_years_bike_related_purchases</th>\n",
              "      <th>DOB</th>\n",
              "      <th>job_title</th>\n",
              "      <th>job_industry_category</th>\n",
              "      <th>wealth_segment</th>\n",
              "      <th>deceased_indicator</th>\n",
              "      <th>owns_car</th>\n",
              "      <th>tenure</th>\n",
              "      <th>DOB_year</th>\n",
              "      <th>DOB_month</th>\n",
              "      <th>DOB_date</th>\n",
              "      <th>Age</th>\n",
              "    </tr>\n",
              "  </thead>\n",
              "  <tbody>\n",
              "    <tr>\n",
              "      <th>0</th>\n",
              "      <td>1</td>\n",
              "      <td>F</td>\n",
              "      <td>93</td>\n",
              "      <td>1953-10-12</td>\n",
              "      <td>Executive Secretary</td>\n",
              "      <td>Health</td>\n",
              "      <td>Mass Customer</td>\n",
              "      <td>N</td>\n",
              "      <td>Yes</td>\n",
              "      <td>11</td>\n",
              "      <td>1953</td>\n",
              "      <td>10</td>\n",
              "      <td>12</td>\n",
              "      <td>68</td>\n",
              "    </tr>\n",
              "    <tr>\n",
              "      <th>1</th>\n",
              "      <td>2</td>\n",
              "      <td>M</td>\n",
              "      <td>81</td>\n",
              "      <td>1980-12-16</td>\n",
              "      <td>Administrative Officer</td>\n",
              "      <td>Financial Services</td>\n",
              "      <td>Mass Customer</td>\n",
              "      <td>N</td>\n",
              "      <td>Yes</td>\n",
              "      <td>16</td>\n",
              "      <td>1980</td>\n",
              "      <td>12</td>\n",
              "      <td>16</td>\n",
              "      <td>41</td>\n",
              "    </tr>\n",
              "    <tr>\n",
              "      <th>2</th>\n",
              "      <td>3</td>\n",
              "      <td>M</td>\n",
              "      <td>61</td>\n",
              "      <td>1954-01-20</td>\n",
              "      <td>Recruiting Manager</td>\n",
              "      <td>Property</td>\n",
              "      <td>Mass Customer</td>\n",
              "      <td>N</td>\n",
              "      <td>Yes</td>\n",
              "      <td>15</td>\n",
              "      <td>1954</td>\n",
              "      <td>1</td>\n",
              "      <td>20</td>\n",
              "      <td>67</td>\n",
              "    </tr>\n",
              "    <tr>\n",
              "      <th>8</th>\n",
              "      <td>9</td>\n",
              "      <td>F</td>\n",
              "      <td>97</td>\n",
              "      <td>1973-03-10</td>\n",
              "      <td>Business Systems Development Analyst</td>\n",
              "      <td>Argiculture</td>\n",
              "      <td>Affluent Customer</td>\n",
              "      <td>N</td>\n",
              "      <td>Yes</td>\n",
              "      <td>8</td>\n",
              "      <td>1973</td>\n",
              "      <td>3</td>\n",
              "      <td>10</td>\n",
              "      <td>48</td>\n",
              "    </tr>\n",
              "    <tr>\n",
              "      <th>9</th>\n",
              "      <td>10</td>\n",
              "      <td>F</td>\n",
              "      <td>49</td>\n",
              "      <td>1988-10-11</td>\n",
              "      <td>Senior Quality Engineer</td>\n",
              "      <td>Financial Services</td>\n",
              "      <td>Mass Customer</td>\n",
              "      <td>N</td>\n",
              "      <td>Yes</td>\n",
              "      <td>20</td>\n",
              "      <td>1988</td>\n",
              "      <td>10</td>\n",
              "      <td>11</td>\n",
              "      <td>33</td>\n",
              "    </tr>\n",
              "  </tbody>\n",
              "</table>\n",
              "</div>"
            ],
            "text/plain": [
              "   customer_id gender  ...  DOB_date Age\n",
              "0            1      F  ...        12  68\n",
              "1            2      M  ...        16  41\n",
              "2            3      M  ...        20  67\n",
              "8            9      F  ...        10  48\n",
              "9           10      F  ...        11  33\n",
              "\n",
              "[5 rows x 14 columns]"
            ]
          },
          "metadata": {},
          "execution_count": 190
        }
      ]
    },
    {
      "cell_type": "code",
      "metadata": {
        "id": "BkpcBhoMhL3P"
      },
      "source": [
        "#Binning the Age column\n",
        "cut_labels = ['0-10', '11-20', '21-30', '31-40','41-50','51-60','61-70','71-80','81-90','91-100']\n",
        "cut_bins = [0, 10,20,30,40,50,60,70,80,90,100]\n",
        "cust_demo['Age_Group'] = pd.cut(cust_demo['Age'], bins=cut_bins, labels=cut_labels)\n",
        "#cust_demo['Age_Group'].value_counts()"
      ],
      "execution_count": 201,
      "outputs": []
    },
    {
      "cell_type": "code",
      "metadata": {
        "colab": {
          "base_uri": "https://localhost:8080/",
          "height": 786
        },
        "id": "stgEdA6wh6OE",
        "outputId": "0044beec-fadf-44c8-a1f5-efcf0057c7fa"
      },
      "source": [
        "plt.figure(figsize=(30,20))\n",
        "plt.subplot(3,2,1)\n",
        "CAR = cust_demo.owns_car.value_counts(normalize=True).rename_axis('car').reset_index(name='Count')\n",
        "plt.pie(data=CAR, x=CAR.Count, labels=CAR.car, autopct='%1.1f%%')\n",
        "plt.title('Car owners Distribution among Customers')\n",
        "plt.subplot(3,2,2)\n",
        "GENDER = cust_demo.gender.value_counts(normalize=True).rename_axis('gender').reset_index(name='Count')\n",
        "plt.pie(data=GENDER, x=GENDER.Count, labels=GENDER.gender, autopct='%1.1f%%')\n",
        "plt.title('Gender Distribution among Customers')\n",
        "plt.subplot(3,2,4)\n",
        "AGE = cust_demo.Age_Group\n",
        "sns.histplot(AGE,palette='Blues').set(xlabel='No of Customers', ylabel='Age Groups', title='No of Customers vs Age Groups')\n",
        "plt.subplot(3,2,3)\n",
        "JOB = cust_demo.job_industry_category.value_counts().to_frame('Count')\n",
        "sns.barplot(JOB.Count,JOB.index,orientation='horizontal',palette='Reds_r')\n",
        "plt.subplot(3,2,5)\n",
        "WEALTH = cust_demo.wealth_segment.value_counts().to_frame('Count')\n",
        "sns.barplot(WEALTH.Count,WEALTH.index,orientation='horizontal',palette='Reds_r')\n",
        "plt.subplot(3,2,6)\n",
        "AGE = cust_demo.tenure\n",
        "sns.histplot(AGE,palette='Blues').set(xlabel='No of Customers', ylabel='Tenure', title='No of Customers vs Tenure')\n",
        "plt.show()"
      ],
      "execution_count": 192,
      "outputs": [
        {
          "output_type": "display_data",
          "data": {
            "image/png": "[encoded data removed]",
            "text/plain": [
              "<Figure size 2160x1440 with 6 Axes>"
            ]
          },
          "metadata": {
            "needs_background": "light"
          }
        }
      ]
    },
    {
      "cell_type": "code",
      "metadata": {
        "colab": {
          "base_uri": "https://localhost:8080/",
          "height": 1000
        },
        "id": "8-fJ-DIAkDvp",
        "outputId": "7d8971be-518d-4f85-dc90-2a351989a0ea"
      },
      "source": [
        "plt.figure(figsize=[15,16])\n",
        "plt.yscale('log')\n",
        "plt.subplot(411)\n",
        "sns.countplot(data = cust_demo, x='Age_Group' , order=cust_demo['Age_Group'].value_counts().index,hue = cust_demo['owns_car'],palette='BuGn',orient='h').set(xlabel='Age Groups', ylabel='Number of Customers', title='Customers in various Age Groups with Car ownership')\n",
        "plt.subplot(412)\n",
        "sns.countplot(data = cust_demo, x='job_industry_category' , order=cust_demo['job_industry_category'].value_counts().index,hue = cust_demo['owns_car'],palette='autumn',orient='h').set(xlabel='Job Industry  Groups', ylabel='Number of Applicants', title='Customers in various Job Industry Groups with Car ownership')\n",
        "plt.subplot(413)\n",
        "sns.countplot(data = cust_demo, x='Age_Group' , order=cust_demo['Age_Group'].value_counts().index,hue = cust_demo['gender'],palette='inferno',orient='h').set(xlabel='Age Groups', ylabel='Number of Customers', title='Customers in various Age Groups with Gender')\n",
        "plt.subplot(414)\n",
        "sns.countplot(data = cust_demo, x='job_industry_category' , order=cust_demo['job_industry_category'].value_counts().index,hue = cust_demo['gender'],palette='Blues',orient='h').set(xlabel='Job Industry  Groups', ylabel='Number of Applicants', title='Customers in various Job Industry Groups with Gender')\n",
        "plt.tight_layout(5.0)\n",
        "plt.show()"
      ],
      "execution_count": 193,
      "outputs": [
        {
          "output_type": "display_data",
          "data": {
            "image/png": "[encoded data removed]",
            "text/plain": [
              "<Figure size 1080x1152 with 4 Axes>"
            ]
          },
          "metadata": {
            "needs_background": "light"
          }
        }
      ]
    },
    {
      "cell_type": "code",
      "metadata": {
        "colab": {
          "base_uri": "https://localhost:8080/",
          "height": 1000
        },
        "id": "hTnJKM5HmGQy",
        "outputId": "fa75ac65-2c1e-42a7-bf70-ed10ef9cb095"
      },
      "source": [
        "plt.figure(figsize=(12,30))\n",
        "WEALTH = cust_demo.job_title.value_counts().to_frame('Count')\n",
        "sns.barplot(WEALTH.Count,WEALTH.index,orientation='horizontal',palette='Reds_r')\n",
        "plt.tight_layout(2.0)\n",
        "plt.show()"
      ],
      "execution_count": 194,
      "outputs": [
        {
          "output_type": "display_data",
          "data": {
            "image/png": "[encoded data removed]",
            "text/plain": [
              "<Figure size 864x2160 with 1 Axes>"
            ]
          },
          "metadata": {
            "needs_background": "light"
          }
        }
      ]
    },
    {
      "cell_type": "code",
      "metadata": {
        "id": "S7atlOTumufq"
      },
      "source": [
        ""
      ],
      "execution_count": 194,
      "outputs": []
    },
    {
      "cell_type": "code",
      "metadata": {
        "id": "BTW6-stSm5ao"
      },
      "source": [
        "df = pd.merge(txn,cust_add,how='inner',on='customer_id')"
      ],
      "execution_count": 202,
      "outputs": []
    },
    {
      "cell_type": "code",
      "metadata": {
        "colab": {
          "base_uri": "https://localhost:8080/",
          "height": 278
        },
        "id": "6KsodmV-tPpQ",
        "outputId": "b62d38ec-a9cc-44dd-b37b-40d779af862d"
      },
      "source": [
        "df.head()"
      ],
      "execution_count": 203,
      "outputs": [
        {
          "output_type": "execute_result",
          "data": {
            "text/html": [
              "<div>\n",
              "<style scoped>\n",
              "    .dataframe tbody tr th:only-of-type {\n",
              "        vertical-align: middle;\n",
              "    }\n",
              "\n",
              "    .dataframe tbody tr th {\n",
              "        vertical-align: top;\n",
              "    }\n",
              "\n",
              "    .dataframe thead th {\n",
              "        text-align: right;\n",
              "    }\n",
              "</style>\n",
              "<table border=\"1\" class=\"dataframe\">\n",
              "  <thead>\n",
              "    <tr style=\"text-align: right;\">\n",
              "      <th></th>\n",
              "      <th>transaction_id</th>\n",
              "      <th>product_id</th>\n",
              "      <th>customer_id</th>\n",
              "      <th>transaction_date</th>\n",
              "      <th>online_order</th>\n",
              "      <th>order_status</th>\n",
              "      <th>brand</th>\n",
              "      <th>product_line</th>\n",
              "      <th>product_class</th>\n",
              "      <th>product_size</th>\n",
              "      <th>list_price</th>\n",
              "      <th>standard_cost</th>\n",
              "      <th>txn_year</th>\n",
              "      <th>txn_month</th>\n",
              "      <th>txn_date</th>\n",
              "      <th>postcode</th>\n",
              "      <th>state</th>\n",
              "      <th>property_valuation</th>\n",
              "    </tr>\n",
              "  </thead>\n",
              "  <tbody>\n",
              "    <tr>\n",
              "      <th>0</th>\n",
              "      <td>1</td>\n",
              "      <td>2</td>\n",
              "      <td>2950</td>\n",
              "      <td>2017-02-25</td>\n",
              "      <td>False</td>\n",
              "      <td>Approved</td>\n",
              "      <td>Solex</td>\n",
              "      <td>Standard</td>\n",
              "      <td>medium</td>\n",
              "      <td>medium</td>\n",
              "      <td>71.49</td>\n",
              "      <td>53.62</td>\n",
              "      <td>2017</td>\n",
              "      <td>2</td>\n",
              "      <td>25</td>\n",
              "      <td>3064</td>\n",
              "      <td>VIC</td>\n",
              "      <td>6</td>\n",
              "    </tr>\n",
              "    <tr>\n",
              "      <th>1</th>\n",
              "      <td>11065</td>\n",
              "      <td>1</td>\n",
              "      <td>2950</td>\n",
              "      <td>2017-10-16</td>\n",
              "      <td>False</td>\n",
              "      <td>Approved</td>\n",
              "      <td>Giant Bicycles</td>\n",
              "      <td>Standard</td>\n",
              "      <td>medium</td>\n",
              "      <td>medium</td>\n",
              "      <td>1403.50</td>\n",
              "      <td>954.82</td>\n",
              "      <td>2017</td>\n",
              "      <td>10</td>\n",
              "      <td>16</td>\n",
              "      <td>3064</td>\n",
              "      <td>VIC</td>\n",
              "      <td>6</td>\n",
              "    </tr>\n",
              "    <tr>\n",
              "      <th>2</th>\n",
              "      <td>18923</td>\n",
              "      <td>62</td>\n",
              "      <td>2950</td>\n",
              "      <td>2017-04-26</td>\n",
              "      <td>False</td>\n",
              "      <td>Approved</td>\n",
              "      <td>Solex</td>\n",
              "      <td>Standard</td>\n",
              "      <td>medium</td>\n",
              "      <td>medium</td>\n",
              "      <td>478.16</td>\n",
              "      <td>298.72</td>\n",
              "      <td>2017</td>\n",
              "      <td>4</td>\n",
              "      <td>26</td>\n",
              "      <td>3064</td>\n",
              "      <td>VIC</td>\n",
              "      <td>6</td>\n",
              "    </tr>\n",
              "    <tr>\n",
              "      <th>3</th>\n",
              "      <td>2</td>\n",
              "      <td>3</td>\n",
              "      <td>3120</td>\n",
              "      <td>2017-05-21</td>\n",
              "      <td>True</td>\n",
              "      <td>Approved</td>\n",
              "      <td>Trek Bicycles</td>\n",
              "      <td>Standard</td>\n",
              "      <td>medium</td>\n",
              "      <td>large</td>\n",
              "      <td>2091.47</td>\n",
              "      <td>388.92</td>\n",
              "      <td>2017</td>\n",
              "      <td>5</td>\n",
              "      <td>21</td>\n",
              "      <td>2196</td>\n",
              "      <td>NSW</td>\n",
              "      <td>5</td>\n",
              "    </tr>\n",
              "    <tr>\n",
              "      <th>4</th>\n",
              "      <td>6862</td>\n",
              "      <td>4</td>\n",
              "      <td>3120</td>\n",
              "      <td>2017-05-10</td>\n",
              "      <td>False</td>\n",
              "      <td>Approved</td>\n",
              "      <td>Giant Bicycles</td>\n",
              "      <td>Standard</td>\n",
              "      <td>high</td>\n",
              "      <td>medium</td>\n",
              "      <td>1129.13</td>\n",
              "      <td>677.48</td>\n",
              "      <td>2017</td>\n",
              "      <td>5</td>\n",
              "      <td>10</td>\n",
              "      <td>2196</td>\n",
              "      <td>NSW</td>\n",
              "      <td>5</td>\n",
              "    </tr>\n",
              "  </tbody>\n",
              "</table>\n",
              "</div>"
            ],
            "text/plain": [
              "   transaction_id  product_id  customer_id  ... postcode state property_valuation\n",
              "0               1           2         2950  ...     3064   VIC                  6\n",
              "1           11065           1         2950  ...     3064   VIC                  6\n",
              "2           18923          62         2950  ...     3064   VIC                  6\n",
              "3               2           3         3120  ...     2196   NSW                  5\n",
              "4            6862           4         3120  ...     2196   NSW                  5\n",
              "\n",
              "[5 rows x 18 columns]"
            ]
          },
          "metadata": {},
          "execution_count": 203
        }
      ]
    },
    {
      "cell_type": "code",
      "metadata": {
        "id": "l8bAvApbtRxS"
      },
      "source": [
        "df = pd.merge(df,cust_demo,how='inner',on='customer_id')"
      ],
      "execution_count": 204,
      "outputs": []
    },
    {
      "cell_type": "code",
      "metadata": {
        "colab": {
          "base_uri": "https://localhost:8080/"
        },
        "id": "3Y8UQhfztX2t",
        "outputId": "c42fea84-c9c2-4c46-b740-03bde6bb6d6c"
      },
      "source": [
        "print('Customer Demographics DataFrame Dimension:',cust_demo.shape)\n",
        "print('Transaction DataFrame Dimension          :',txn.shape)\n",
        "print('Customer Address DataFrame Dimension     :',cust_add.shape)\n",
        "print('Final DataFrame Dimension                :',df.shape)"
      ],
      "execution_count": 210,
      "outputs": [
        {
          "output_type": "stream",
          "name": "stdout",
          "text": [
            "Customer Demographics DataFrame Dimension: (2862, 15)\n",
            "Transaction DataFrame Dimension          : (19445, 15)\n",
            "Customer Address DataFrame Dimension     : (3999, 4)\n",
            "Final DataFrame Dimension                : (14046, 32)\n"
          ]
        }
      ]
    }
  ]
}